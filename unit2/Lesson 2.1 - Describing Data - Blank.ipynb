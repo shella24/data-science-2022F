{
 "cells": [
  {
   "cell_type": "markdown",
   "id": "58b0800d",
   "metadata": {},
   "source": [
    "# Data Science Lesson - Describing Data\n",
    "---\n",
    "**How do we describe a one-dimensional data set?**\n",
    "\n",
    "Create a list of at least ten numeric grades (0-100). Output the list to verify."
   ]
  },
  {
   "cell_type": "code",
   "execution_count": 23,
   "id": "19a79be5",
   "metadata": {},
   "outputs": [],
   "source": [
    "grades_list = [0, 70, 50, 48, 90, 98, 100, 101, 87, 54]"
   ]
  },
  {
   "cell_type": "markdown",
   "id": "09ff9e4a",
   "metadata": {},
   "source": [
    "Find the number (the count) of grades in the list and output it."
   ]
  },
  {
   "cell_type": "code",
   "execution_count": 24,
   "id": "acb71f36",
   "metadata": {},
   "outputs": [
    {
     "data": {
      "text/plain": [
       "10"
      ]
     },
     "execution_count": 24,
     "metadata": {},
     "output_type": "execute_result"
    }
   ],
   "source": [
    "g = len(grades_list)\n",
    "g"
   ]
  },
  {
   "cell_type": "markdown",
   "id": "36a3600d",
   "metadata": {},
   "source": [
    "Calculate the mean grade using an old-fashioned for loop and the count from above."
   ]
  },
  {
   "cell_type": "code",
   "execution_count": 25,
   "id": "6b19a460",
   "metadata": {},
   "outputs": [
    {
     "data": {
      "text/plain": [
       "69.8"
      ]
     },
     "execution_count": 25,
     "metadata": {},
     "output_type": "execute_result"
    }
   ],
   "source": [
    "placeholder = 0\n",
    "for x in grades_list:\n",
    "    placeholder += x\n",
    "placeholder/len(grades_list)\n",
    "\n",
    "\n"
   ]
  },
  {
   "cell_type": "markdown",
   "id": "1f9b0518",
   "metadata": {},
   "source": [
    "Now calculate the mean using sum() and len()"
   ]
  },
  {
   "cell_type": "code",
   "execution_count": 33,
   "id": "4a339adf",
   "metadata": {},
   "outputs": [
    {
     "data": {
      "text/plain": [
       "69.8"
      ]
     },
     "execution_count": 33,
     "metadata": {},
     "output_type": "execute_result"
    }
   ],
   "source": [
    "sum(grades_list)/len(grades_list)\n",
    "    "
   ]
  },
  {
   "cell_type": "markdown",
   "id": "60de1662",
   "metadata": {},
   "source": [
    "Calculate the minimum and maximum grades using an old-fashioned for loop and some clever logic. (You may want to whiteboard an algorithm first!) Output (print) them on one line (e.g., \"Minimum: 67 | Maximum: 99\")"
   ]
  },
  {
   "cell_type": "code",
   "execution_count": null,
   "id": "a9334a8d",
   "metadata": {},
   "outputs": [],
   "source": [
    "minG = 100\n",
    "maxG = 0\n",
    "for g in grades_list:\n",
    "    if g < minG:\n",
    "        minG = g\n",
    "g\n",
    "\n",
    "\n"
   ]
  },
  {
   "cell_type": "code",
   "execution_count": 35,
   "id": "9c3d1921",
   "metadata": {},
   "outputs": [
    {
     "name": "stdout",
     "output_type": "stream",
     "text": [
      "Minimun: 0 | Maximum: 101\n"
     ]
    }
   ],
   "source": [
    "print(f'Minimun: {min(grades_list)} | Maximum: {max(grades_list)}')"
   ]
  },
  {
   "cell_type": "markdown",
   "id": "899afe6a",
   "metadata": {},
   "source": [
    "Manually calculate the population standard deviation of grades.\n",
    "See: https://www.thoughtco.com/population-vs-sample-standard-deviations-3126372"
   ]
  },
  {
   "cell_type": "code",
   "execution_count": 37,
   "id": "45ae5b1b",
   "metadata": {},
   "outputs": [
    {
     "ename": "TypeError",
     "evalue": "unsupported operand type(s) for -: 'int' and 'list'",
     "output_type": "error",
     "traceback": [
      "\u001b[0;31m---------------------------------------------------------------------------\u001b[0m",
      "\u001b[0;31mTypeError\u001b[0m                                 Traceback (most recent call last)",
      "Input \u001b[0;32mIn [37]\u001b[0m, in \u001b[0;36m<cell line: 1>\u001b[0;34m()\u001b[0m\n\u001b[0;32m----> 1\u001b[0m x \u001b[38;5;241m=\u001b[39m (\u001b[43mplaceholder\u001b[49m\u001b[43m \u001b[49m\u001b[38;5;241;43m-\u001b[39;49m\u001b[43m \u001b[49m\u001b[43mgrades_list\u001b[49m)\n\u001b[1;32m      2\u001b[0m calculate \u001b[38;5;241m=\u001b[39m (x\u001b[38;5;241m*\u001b[39m\u001b[38;5;241m*\u001b[39m\u001b[38;5;241m2\u001b[39m)\n\u001b[1;32m      3\u001b[0m \u001b[38;5;28;01mfor\u001b[39;00m s \u001b[38;5;129;01min\u001b[39;00m x:\n",
      "\u001b[0;31mTypeError\u001b[0m: unsupported operand type(s) for -: 'int' and 'list'"
     ]
    }
   ],
   "source": [
    "x = (placeholder - grades_list)\n",
    "calculate = (x**2)\n",
    "for s in x:\n",
    "    if x > 0:\n",
    "        x + calculate\n",
    "s"
   ]
  },
  {
   "cell_type": "markdown",
   "id": "7eb375cf",
   "metadata": {},
   "source": [
    "## Use NumPy\n",
    "\n",
    "Import NumPy (as np) and verify the mean and standard deviation using its mean() std() functions (which take a list as an argument).\n",
    "\n",
    "See: https://numpy.org/ and/or https://www.w3schools.com/python/numpy/\n",
    "\n",
    "*Note: you can pass a list into a NumPy function and it will be converted to a NumPy array for you.*"
   ]
  },
  {
   "cell_type": "code",
   "execution_count": 2,
   "id": "85c4ff89",
   "metadata": {},
   "outputs": [],
   "source": [
    "import numpy"
   ]
  },
  {
   "cell_type": "code",
   "execution_count": 3,
   "id": "5a204777",
   "metadata": {},
   "outputs": [
    {
     "ename": "NameError",
     "evalue": "name 'grades' is not defined",
     "output_type": "error",
     "traceback": [
      "\u001b[0;31m---------------------------------------------------------------------------\u001b[0m",
      "\u001b[0;31mNameError\u001b[0m                                 Traceback (most recent call last)",
      "Input \u001b[0;32mIn [3]\u001b[0m, in \u001b[0;36m<cell line: 1>\u001b[0;34m()\u001b[0m\n\u001b[0;32m----> 1\u001b[0m numpy\u001b[38;5;241m.\u001b[39mmean(\u001b[43mgrades\u001b[49m)\n",
      "\u001b[0;31mNameError\u001b[0m: name 'grades' is not defined"
     ]
    }
   ],
   "source": [
    "numpy.mean(grades)"
   ]
  },
  {
   "cell_type": "markdown",
   "id": "5d8319cb",
   "metadata": {},
   "source": [
    "**NumPy and other data science modules for Python do all the tedious work for us, and very efficiently!**"
   ]
  }
 ],
 "metadata": {
  "kernelspec": {
   "display_name": "Python 3 (ipykernel)",
   "language": "python",
   "name": "python3"
  },
  "language_info": {
   "codemirror_mode": {
    "name": "ipython",
    "version": 3
   },
   "file_extension": ".py",
   "mimetype": "text/x-python",
   "name": "python",
   "nbconvert_exporter": "python",
   "pygments_lexer": "ipython3",
   "version": "3.9.12"
  }
 },
 "nbformat": 4,
 "nbformat_minor": 5
}

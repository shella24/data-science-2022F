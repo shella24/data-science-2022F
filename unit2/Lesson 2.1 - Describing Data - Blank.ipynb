{
 "cells": [
  {
   "cell_type": "markdown",
   "id": "58b0800d",
   "metadata": {},
   "source": [
    "# Data Science Lesson - Describing Data\n",
    "---\n",
    "**How do we describe a one-dimensional data set?**\n",
    "\n",
    "Create a list of at least ten numeric grades (0-100). Output the list to verify."
   ]
  },
  {
   "cell_type": "code",
   "execution_count": null,
   "id": "19a79be5",
   "metadata": {},
   "outputs": [],
   "source": []
  },
  {
   "cell_type": "markdown",
   "id": "09ff9e4a",
   "metadata": {},
   "source": [
    "Find the number (the count) of grades in the list and output it."
   ]
  },
  {
   "cell_type": "code",
   "execution_count": null,
   "id": "acb71f36",
   "metadata": {},
   "outputs": [],
   "source": []
  },
  {
   "cell_type": "markdown",
   "id": "36a3600d",
   "metadata": {},
   "source": [
    "Calculate the mean grade using an old-fashioned for loop and the count from above."
   ]
  },
  {
   "cell_type": "code",
   "execution_count": null,
   "id": "6b19a460",
   "metadata": {},
   "outputs": [],
   "source": []
  },
  {
   "cell_type": "markdown",
   "id": "1f9b0518",
   "metadata": {},
   "source": [
    "Now calculate the mean using sum() and len()"
   ]
  },
  {
   "cell_type": "code",
   "execution_count": null,
   "id": "4a339adf",
   "metadata": {},
   "outputs": [],
   "source": []
  },
  {
   "cell_type": "markdown",
   "id": "60de1662",
   "metadata": {},
   "source": [
    "Calculate the minimum and maximum grades using an old-fashioned for loop and some clever logic. (You may want to whiteboard an algorithm first!) Output (print) them on one line (e.g., \"Minimum: 67 | Maximum: 99\")"
   ]
  },
  {
   "cell_type": "code",
   "execution_count": null,
   "id": "a9334a8d",
   "metadata": {},
   "outputs": [],
   "source": []
  },
  {
   "cell_type": "markdown",
   "id": "899afe6a",
   "metadata": {},
   "source": [
    "Manually calculate the population standard deviation of grades.\n",
    "See: https://www.thoughtco.com/population-vs-sample-standard-deviations-3126372"
   ]
  },
  {
   "cell_type": "code",
   "execution_count": null,
   "id": "45ae5b1b",
   "metadata": {},
   "outputs": [],
   "source": []
  },
  {
   "cell_type": "markdown",
   "id": "7eb375cf",
   "metadata": {},
   "source": [
    "## Use NumPy\n",
    "\n",
    "Import NumPy (as np) and verify the mean and standard deviation using its mean() std() functions (which take a list as an argument).\n",
    "\n",
    "See: https://numpy.org/ and/or https://www.w3schools.com/python/numpy/\n",
    "\n",
    "*Note: you can pass a list into a NumPy function and it will be converted to a NumPy array for you.*"
   ]
  },
  {
   "cell_type": "code",
   "execution_count": null,
   "id": "85c4ff89",
   "metadata": {},
   "outputs": [],
   "source": []
  },
  {
   "cell_type": "markdown",
   "id": "5d8319cb",
   "metadata": {},
   "source": [
    "**NumPy and other data science modules for Python do all the tedious work for us, and very efficiently!**"
   ]
  }
 ],
 "metadata": {
  "kernelspec": {
   "display_name": "Python 3 (ipykernel)",
   "language": "python",
   "name": "python3"
  },
  "language_info": {
   "codemirror_mode": {
    "name": "ipython",
    "version": 3
   },
   "file_extension": ".py",
   "mimetype": "text/x-python",
   "name": "python",
   "nbconvert_exporter": "python",
   "pygments_lexer": "ipython3",
   "version": "3.9.12"
  }
 },
 "nbformat": 4,
 "nbformat_minor": 5
}

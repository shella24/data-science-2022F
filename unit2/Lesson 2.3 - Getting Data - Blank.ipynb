{
 "cells": [
  {
   "cell_type": "markdown",
   "id": "6ba30118",
   "metadata": {},
   "source": [
    "# Data Science Lesson - Getting Data\n",
    "---\n",
    "### Reading from CSV files\n",
    "A comma-separated values (CSV) file is a very common, generic file format used for data storage and transfer.\n",
    "There is the \"vanilla\" Python way to get data out of a CSV, and there is the pandas way.\n",
    "See https://realpython.com/python-csv/ to determine which you prefer. :)\n",
    "\n",
    "Open your Google Sheets file of people data from the last lesson. Use File > Download to get a CSV locally and place it in the same directory as this notebook. Rename it \"people.csv\".\n",
    "\n",
    "Now, import pandas as pd and use the .read_csv function to read the contents of people.csv into a pandas dataframe. Output the dataframe to see what it looks like."
   ]
  },
  {
   "cell_type": "code",
   "execution_count": null,
   "id": "59219e95",
   "metadata": {},
   "outputs": [],
   "source": []
  },
  {
   "cell_type": "markdown",
   "id": "031c7030",
   "metadata": {},
   "source": [
    "**Question:** What's a DataFrame?\n",
    "\n",
    "**Answer:** It's our new best friend!\n",
    "\n",
    "Now that you have data in a pandas dataframe, use .info() to get details about the columns."
   ]
  },
  {
   "cell_type": "code",
   "execution_count": null,
   "id": "c135138b",
   "metadata": {},
   "outputs": [],
   "source": []
  },
  {
   "cell_type": "markdown",
   "id": "44a04d1b",
   "metadata": {},
   "source": [
    "And now use .describe() to get a lot more useful informations."
   ]
  },
  {
   "cell_type": "code",
   "execution_count": null,
   "id": "6dce13d5",
   "metadata": {},
   "outputs": [],
   "source": []
  },
  {
   "cell_type": "markdown",
   "id": "004ec174",
   "metadata": {},
   "source": [
    "## Weather Data\n",
    "From https://github.com/fivethirtyeight/data/tree/master/us-weather-history we can get weather data as CSV files from many different airports.\n",
    "\n",
    "Download a CSV file from the above site. (Make sure to pick one that no one else chooses.) You'll need to view the \"raw\" page and save the file locally as a .csv (not .txt)\n",
    "\n",
    "Then, read the file into a dataframe and output it to verify."
   ]
  },
  {
   "cell_type": "code",
   "execution_count": null,
   "id": "c3210f7c",
   "metadata": {},
   "outputs": [],
   "source": []
  },
  {
   "cell_type": "markdown",
   "id": "a44ca622",
   "metadata": {},
   "source": [
    "Get the info for the data set."
   ]
  },
  {
   "cell_type": "code",
   "execution_count": null,
   "id": "1e4e7782",
   "metadata": {},
   "outputs": [],
   "source": []
  },
  {
   "cell_type": "markdown",
   "id": "a07a675e",
   "metadata": {},
   "source": [
    "And now describe the data."
   ]
  },
  {
   "cell_type": "code",
   "execution_count": null,
   "id": "8a535b80",
   "metadata": {},
   "outputs": [],
   "source": []
  },
  {
   "cell_type": "markdown",
   "id": "d6fe33a3",
   "metadata": {},
   "source": [
    "Take a look at the mean and std of the actual_mean_temp. That's the average temperature of the airport over the whole year, and the standard deviation. Compare with others to see if you can tell whose airports are more temperate and more volatile. Then look up the airport by its code and see if your observations make sense."
   ]
  },
  {
   "cell_type": "markdown",
   "id": "c25dc530",
   "metadata": {},
   "source": [
    "## Reading directly from the web\n",
    "We can also get CSV directly from the web without saving the file locally. Note that this creates a dependency on the host of data. If that resource is moved (or removed) our script will stop functioning.\n",
    "\n",
    "Try getting data on surnames from here: https://raw.githubusercontent.com/fivethirtyeight/data/master/most-common-name/surnames.csv\n",
    "\n",
    "Then, investigate the data using pandas tools we just learned."
   ]
  },
  {
   "cell_type": "code",
   "execution_count": null,
   "id": "0abfd9f4",
   "metadata": {},
   "outputs": [],
   "source": []
  }
 ],
 "metadata": {
  "kernelspec": {
   "display_name": "Python 3",
   "language": "python",
   "name": "python3"
  },
  "language_info": {
   "codemirror_mode": {
    "name": "ipython",
    "version": 3
   },
   "file_extension": ".py",
   "mimetype": "text/x-python",
   "name": "python",
   "nbconvert_exporter": "python",
   "pygments_lexer": "ipython3",
   "version": "3.8.8"
  }
 },
 "nbformat": 4,
 "nbformat_minor": 5
}

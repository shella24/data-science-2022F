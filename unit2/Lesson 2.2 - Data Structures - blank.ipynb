{
 "cells": [
  {
   "cell_type": "markdown",
   "id": "a3a28689",
   "metadata": {},
   "source": [
    "# Data Science Lesson - Data Structures\n",
    "---\n",
    "**Question: How do we represent our Stick Figure Google Sheet (table) in a Python variable?**\n",
    "\n",
    "### List of Dictionaries\n",
    "\n",
    "Represent each person as a dictionary, and stote them all in a list. Output the list to verify."
   ]
  },
  {
   "cell_type": "code",
   "execution_count": 38,
   "id": "46d98ee3",
   "metadata": {},
   "outputs": [
    {
     "data": {
      "text/plain": [
       "[{'name': 'dakota',\n",
       "  'gpa': 3.15,\n",
       "  'friends': 307,\n",
       "  'sports': 'basketball',\n",
       "  'height': 72,\n",
       "  'shoes': 'sneakers'},\n",
       " {'name': 'hayden',\n",
       "  'gpa': 3.5,\n",
       "  'friends': 335,\n",
       "  'sports': 'tennis',\n",
       "  'height': 68,\n",
       "  'shoes': 'flip_flops'},\n",
       " {'name': 'charlie',\n",
       "  'gpa': 1.1,\n",
       "  'friends': 34,\n",
       "  'sports': 'baseball',\n",
       "  'height': 61,\n",
       "  'shoes': 'flip_flops'},\n",
       " {'name': 'kamryn',\n",
       "  'gpa': 2.18,\n",
       "  'friends': 200,\n",
       "  'sports': 'soccer',\n",
       "  'height': 66,\n",
       "  'shoes': 'sneakers'},\n",
       " {'name': 'emerson',\n",
       "  'gpa': 3.06,\n",
       "  'friends': 213,\n",
       "  'sports': 'soccer',\n",
       "  'height': 65,\n",
       "  'shoes': 'sneakers'},\n",
       " {'name': 'jessie',\n",
       "  'gpa': 2.41,\n",
       "  'friends': 202,\n",
       "  'sports': 'basketball',\n",
       "  'height': 61,\n",
       "  'shoes': 'flip_flops'},\n",
       " {'name': 'sawyer',\n",
       "  'gpa': 2.96,\n",
       "  'friends': 314,\n",
       "  'sports': 'tennis',\n",
       "  'height': 67,\n",
       "  'shoes': 'flip_flops'},\n",
       " {'name': 'london',\n",
       "  'gpa': 3.98,\n",
       "  'friends': 436,\n",
       "  'sports': 'soccer',\n",
       "  'height': 64,\n",
       "  'shoes': 'sneakers'}]"
      ]
     },
     "execution_count": 38,
     "metadata": {},
     "output_type": "execute_result"
    }
   ],
   "source": [
    "stick_figures= [ {\n",
    "    'name' : 'dakota',\n",
    "    'gpa' : 3.15,\n",
    "    'friends' : 307,\n",
    "    'sports' : 'basketball',\n",
    "    'height' : 72,\n",
    "    'shoes' : 'sneakers'\n",
    "},\n",
    "    \n",
    "{\n",
    "    'name' : 'hayden',\n",
    "    'gpa' : 3.50,\n",
    "    'friends' : 335,\n",
    "    'sports' : 'tennis',\n",
    "    'height' : 68,\n",
    "    'shoes' : 'flip_flops'\n",
    "},\n",
    "    \n",
    "\n",
    "{\n",
    "    'name' : 'charlie',\n",
    "    'gpa' : 1.1,\n",
    "    'friends' : 34,\n",
    "    'sports' : 'baseball',\n",
    "    'height' : 61,\n",
    "    'shoes' : 'flip_flops'\n",
    "},\n",
    "    \n",
    "\n",
    "{\n",
    "    'name' : 'kamryn',\n",
    "    'gpa' : 2.18,\n",
    "    'friends' : 200,\n",
    "    'sports' : 'soccer',\n",
    "    'height' : 66,\n",
    "    'shoes' : 'sneakers'\n",
    "},\n",
    "    \n",
    "\n",
    "{\n",
    "    'name' : 'emerson',\n",
    "    'gpa' : 3.06,\n",
    "    'friends' : 213,\n",
    "    'sports' : 'soccer',\n",
    "    'height' : 65,\n",
    "    'shoes' : 'sneakers'\n",
    "},\n",
    "    \n",
    "\n",
    "{\n",
    "    'name' : 'jessie',\n",
    "    'gpa' : 2.41,\n",
    "    'friends' : 202,\n",
    "    'sports' : 'basketball',\n",
    "    'height' : 61,\n",
    "    'shoes' : 'flip_flops'\n",
    "},\n",
    "    \n",
    "\n",
    "{\n",
    "    'name' : 'sawyer',\n",
    "    'gpa' : 2.96,\n",
    "    'friends' : 314,\n",
    "    'sports' : 'tennis',\n",
    "    'height' : 67,\n",
    "    'shoes' : 'flip_flops'\n",
    "},\n",
    "    \n",
    "\n",
    "{\n",
    "    'name' : 'london',\n",
    "    'gpa' : 3.98,\n",
    "    'friends' : 436,\n",
    "    'sports' : 'soccer',\n",
    "    'height' : 64,\n",
    "    'shoes' : 'sneakers'\n",
    "},\n",
    "\n",
    "\n",
    "]\n",
    "stick_figures"
   ]
  },
  {
   "cell_type": "markdown",
   "id": "9dee2d16",
   "metadata": {},
   "source": [
    "What is the mean height of people in our list? First, use pure Python functions (not the statistics module) to calculate this, and output to verify.\n",
    "\n",
    "*Hint: You may want to put all the heights in a list and then use that for your computations.*"
   ]
  },
  {
   "cell_type": "code",
   "execution_count": 43,
   "id": "3525da44",
   "metadata": {},
   "outputs": [
    {
     "data": {
      "text/plain": [
       "[65.5]"
      ]
     },
     "execution_count": 43,
     "metadata": {},
     "output_type": "execute_result"
    }
   ],
   "source": [
    "mean_height = [] \n",
    "for p in stick_figures:\n",
    "    mean_height.append(p['height']) \n",
    "\n",
    "mean_height\n",
    "\n",
    "height = [ sum(mean_height) / len(mean_height)]\n",
    "height\n"
   ]
  },
  {
   "cell_type": "markdown",
   "id": "bcf0f231",
   "metadata": {},
   "source": [
    "Now, import NumPy (as np) and use its mean function to find the mean of the heights list directly."
   ]
  },
  {
   "cell_type": "code",
   "execution_count": 50,
   "id": "dac4edc5",
   "metadata": {},
   "outputs": [
    {
     "data": {
      "text/plain": [
       "65.5"
      ]
     },
     "execution_count": 50,
     "metadata": {},
     "output_type": "execute_result"
    }
   ],
   "source": [
    "import numpy as np\n",
    "np.mean(height)"
   ]
  },
  {
   "cell_type": "markdown",
   "id": "25f72f93",
   "metadata": {},
   "source": [
    "## Dictionary of Lists\n",
    "\n",
    "Using a dictionary and key/value pairs, represent each attribute (column) of a person as a key and all the values of each attribute as a list. That is, a dictionary of lists. Output the dict to verify."
   ]
  },
  {
   "cell_type": "code",
   "execution_count": 60,
   "id": "d5dca641",
   "metadata": {},
   "outputs": [
    {
     "data": {
      "text/plain": [
       "65.5"
      ]
     },
     "execution_count": 60,
     "metadata": {},
     "output_type": "execute_result"
    }
   ],
   "source": [
    "blah = { 'name' : [p['name'] for p in stick_figures], \n",
    "        'height' : [p['height'] for p in stick_figures], \n",
    "        'sports' : [p['sports'] for p in stick_figures],\n",
    "       'gpa' : [p['gpa'] for p in stick_figures]}\n",
    "blah\n",
    "\n",
    "np.mean(blah['height'])"
   ]
  },
  {
   "cell_type": "markdown",
   "id": "846bdc27",
   "metadata": {},
   "source": [
    "Now use NumPy to get the mean in one statement."
   ]
  },
  {
   "cell_type": "code",
   "execution_count": null,
   "id": "898bb3cd",
   "metadata": {},
   "outputs": [],
   "source": []
  },
  {
   "cell_type": "markdown",
   "id": "5f0ed550",
   "metadata": {},
   "source": [
    "**So, which approach should we use? Or is there a better way? Hmmm...**"
   ]
  }
 ],
 "metadata": {
  "kernelspec": {
   "display_name": "Python 3 (ipykernel)",
   "language": "python",
   "name": "python3"
  },
  "language_info": {
   "codemirror_mode": {
    "name": "ipython",
    "version": 3
   },
   "file_extension": ".py",
   "mimetype": "text/x-python",
   "name": "python",
   "nbconvert_exporter": "python",
   "pygments_lexer": "ipython3",
   "version": "3.9.12"
  }
 },
 "nbformat": 4,
 "nbformat_minor": 5
}

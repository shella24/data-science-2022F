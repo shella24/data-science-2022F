{
 "cells": [
  {
   "cell_type": "markdown",
   "id": "a3a28689",
   "metadata": {},
   "source": [
    "# Data Science Lesson - Data Structures\n",
    "---\n",
    "**Question: How do we represent our Stick Figure Google Sheet (table) in a Python variable?**\n",
    "\n",
    "### List of Dictionaries\n",
    "\n",
    "Represent each person as a dictionary, and stote them all in a list. Output the list to verify."
   ]
  },
  {
   "cell_type": "code",
   "execution_count": null,
   "id": "46d98ee3",
   "metadata": {},
   "outputs": [],
   "source": []
  },
  {
   "cell_type": "markdown",
   "id": "9dee2d16",
   "metadata": {},
   "source": [
    "What is the mean height of people in our list? First, use pure Python functions (not the statistics module) to calculate this, and output to verify.\n",
    "\n",
    "*Hint: You may want to put all the heights in a list and then use that for your computations.*"
   ]
  },
  {
   "cell_type": "code",
   "execution_count": null,
   "id": "3525da44",
   "metadata": {},
   "outputs": [],
   "source": []
  },
  {
   "cell_type": "markdown",
   "id": "bcf0f231",
   "metadata": {},
   "source": [
    "Now, import NumPy (as np) and use its mean function to find the mean of the heights list directly."
   ]
  },
  {
   "cell_type": "code",
   "execution_count": null,
   "id": "dac4edc5",
   "metadata": {},
   "outputs": [],
   "source": []
  },
  {
   "cell_type": "markdown",
   "id": "25f72f93",
   "metadata": {},
   "source": [
    "## Dictionary of Lists\n",
    "\n",
    "Using a dictionary and key/value pairs, represent each attribute (column) of a person as a key and all the values of each attribute as a list. That is, a dictionary of lists. Output the dict to verify."
   ]
  },
  {
   "cell_type": "code",
   "execution_count": null,
   "id": "d5dca641",
   "metadata": {},
   "outputs": [],
   "source": []
  },
  {
   "cell_type": "markdown",
   "id": "846bdc27",
   "metadata": {},
   "source": [
    "Now use NumPy to get the mean in one statement."
   ]
  },
  {
   "cell_type": "code",
   "execution_count": null,
   "id": "898bb3cd",
   "metadata": {},
   "outputs": [],
   "source": []
  },
  {
   "cell_type": "markdown",
   "id": "5f0ed550",
   "metadata": {},
   "source": [
    "**So, which approach should we use? Or is there a better way? Hmmm...**"
   ]
  }
 ],
 "metadata": {
  "kernelspec": {
   "display_name": "Python 3 (ipykernel)",
   "language": "python",
   "name": "python3"
  },
  "language_info": {
   "codemirror_mode": {
    "name": "ipython",
    "version": 3
   },
   "file_extension": ".py",
   "mimetype": "text/x-python",
   "name": "python",
   "nbconvert_exporter": "python",
   "pygments_lexer": "ipython3",
   "version": "3.9.12"
  }
 },
 "nbformat": 4,
 "nbformat_minor": 5
}

{
 "cells": [
  {
   "cell_type": "markdown",
   "id": "6ba30118",
   "metadata": {},
   "source": [
    "# Data Science Assignment - Pandas \n",
    "---\n",
    "There are tons of online resources for learning pandas. Feel free to use any of them for this lesson.\n",
    "\n",
    "Here's a handy cheat sheet: https://pandas.pydata.org/Pandas_Cheat_Sheet.pdf\n",
    "\n",
    "The basics: https://www.w3schools.com/python/pandas/default.asp\n",
    "\n",
    "---\n",
    "\n",
    "Start by importing pandas (as pd). "
   ]
  },
  {
   "cell_type": "code",
   "execution_count": 1,
   "id": "b9acd8ed",
   "metadata": {},
   "outputs": [],
   "source": [
    "import pandas as pd"
   ]
  },
  {
   "cell_type": "markdown",
   "id": "2f517abf",
   "metadata": {},
   "source": [
    "Recall that a \"DataFrame\" is the heart and soul of Pandas. It is a class of object that represents tabular data.\n",
    "\n",
    "There are 2 ways to manually create a DataFrame. You can pass into the DataFrame constructor either a dictionary of lists or a list of lists. In each method, you will need to pass in the index values. In the lists of lists, you will also need to pass in the column names. "
   ]
  },
  {
   "cell_type": "code",
   "execution_count": 2,
   "id": "2384821a",
   "metadata": {},
   "outputs": [
    {
     "name": "stdout",
     "output_type": "stream",
     "text": [
      "   a  b   c\n",
      "1  4  7  10\n",
      "2  5  8  11\n",
      "3  6  9  12\n",
      "   a  b   c\n",
      "1  4  7  10\n",
      "2  5  8  11\n",
      "3  6  9  12\n"
     ]
    }
   ],
   "source": [
    "# Run this code to see that the 2 DataFrames are equivalent. (You must run the import above first!)\n",
    "\n",
    "# A dictionary of lists\n",
    "data1 = {\"a\" : [4 ,5, 6], \"b\" : [7, 8, 9], \"c\" : [10, 11, 12]}\n",
    "df1 = pd.DataFrame(data1, index = [1, 2, 3])\n",
    "\n",
    "# A list of lists, with columns added\n",
    "data2 = [[4, 7, 10], [5, 8, 11], [6, 9, 12]]\n",
    "df2 = pd.DataFrame(data2, index=[1, 2, 3], columns=['a', 'b', 'c'])\n",
    "\n",
    "print(df1)\n",
    "print(df2)"
   ]
  },
  {
   "cell_type": "markdown",
   "id": "885ce122",
   "metadata": {},
   "source": [
    "## Now for some real slicing and dicing!\n",
    "\n",
    "Let's use the wine review data from the Kaggle lesson.\n",
    "Read the data into a DataFrame using .read_csv and this URL:\n",
    "https://raw.githubusercontent.com/davestroud/Wine/master/winemag-data_first150k.csv\n",
    "\n",
    "Check that your variable (which should be called \"reviews\") contains the data.\n",
    "\n",
    "If you notice a duplicate index column, add index_col=0 to the read_csv call to indicate that row 0 is your index. (See https://www.kaggle.com/residentmario/creating-reading-and-writing#Reading-data-files if you are unsure.)\n"
   ]
  },
  {
   "cell_type": "code",
   "execution_count": 3,
   "id": "4774df80",
   "metadata": {},
   "outputs": [],
   "source": [
    "# Declare a variable named \"reviews\" and assign it the DataFrame using pd.read_csv()"
   ]
  },
  {
   "cell_type": "markdown",
   "id": "80b1fb9f",
   "metadata": {},
   "source": [
    "Find a list of the highest rated wines. (First find the highest points rating then get all wines that have that rating.)"
   ]
  },
  {
   "cell_type": "code",
   "execution_count": 4,
   "id": "d7ea0ae7",
   "metadata": {},
   "outputs": [],
   "source": [
    "# First, get the highest rating"
   ]
  },
  {
   "cell_type": "code",
   "execution_count": 5,
   "id": "0a27941b",
   "metadata": {},
   "outputs": [],
   "source": [
    "# Next, get all the wines with that rating"
   ]
  },
  {
   "cell_type": "markdown",
   "id": "dc601738",
   "metadata": {},
   "source": [
    "Use this \"best wines\" DataFrame to create a \"best_US_wines\" DataFrame with the following columns: country, winery, price. Only show the US wines!"
   ]
  },
  {
   "cell_type": "code",
   "execution_count": null,
   "id": "70b5387a",
   "metadata": {},
   "outputs": [],
   "source": []
  },
  {
   "cell_type": "markdown",
   "id": "24b37313",
   "metadata": {},
   "source": [
    "Rerun this entire Notebook (to get a \"clean\" version, commit and push it to Github. Let me know when it's there for me to check."
   ]
  }
 ],
 "metadata": {
  "kernelspec": {
   "display_name": "Python 3 (ipykernel)",
   "language": "python",
   "name": "python3"
  },
  "language_info": {
   "codemirror_mode": {
    "name": "ipython",
    "version": 3
   },
   "file_extension": ".py",
   "mimetype": "text/x-python",
   "name": "python",
   "nbconvert_exporter": "python",
   "pygments_lexer": "ipython3",
   "version": "3.8.12"
  }
 },
 "nbformat": 4,
 "nbformat_minor": 5
}

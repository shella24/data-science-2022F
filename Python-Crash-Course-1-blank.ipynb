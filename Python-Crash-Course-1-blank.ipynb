{
 "cells": [
  {
   "cell_type": "markdown",
   "id": "5fe32e27",
   "metadata": {},
   "source": [
    "# Python Crash Course!\n",
    "***\n",
    "**Instructions**\n",
    "\n",
    "Most of the concepts introduced below should be familiar, but Python's syntax may not be. You should use online resources to work through this.\n",
    "\n",
    "Specifically, start here: https://www.w3schools.com/python/\n",
    "\n",
    "For each section, write Python code that demonstrates the concept.\n",
    "\n",
    "## Output\n",
    "\n",
    "You may recall console.log() from JavaScript. The Python equivalent is print().\n",
    "In the cell below, print \"Hello World!\""
   ]
  },
  {
   "cell_type": "code",
   "execution_count": null,
   "id": "391982a1",
   "metadata": {},
   "outputs": [],
   "source": []
  },
  {
   "cell_type": "markdown",
   "id": "2cc5d7f8",
   "metadata": {},
   "source": [
    "Did you use single-quotes or double? Why? Does it matter?\n",
    "\n",
    "## Comments\n",
    "\n",
    "Put a comment in the code cell below and run it, making sure nothing happens."
   ]
  },
  {
   "cell_type": "code",
   "execution_count": null,
   "id": "1bb2f1fe",
   "metadata": {},
   "outputs": [],
   "source": []
  },
  {
   "cell_type": "markdown",
   "id": "5848013f",
   "metadata": {},
   "source": [
    "## Variables\n",
    "\n",
    "Create two variables, one that stores your year or birth and another that stores your name. \n",
    "Print something like this on one line: \"My name is Bob and I was born in 1987.\"\n",
    "\n",
    "*Hint: you will need to cast the int into a string.*"
   ]
  },
  {
   "cell_type": "code",
   "execution_count": null,
   "id": "898c0ec9",
   "metadata": {},
   "outputs": [],
   "source": []
  },
  {
   "cell_type": "markdown",
   "id": "df052c73",
   "metadata": {},
   "source": [
    "## Data Types\n",
    "\n",
    "Use the type() function to print out the datatypes of each of your variables from above."
   ]
  },
  {
   "cell_type": "code",
   "execution_count": null,
   "id": "5ef93a32",
   "metadata": {},
   "outputs": [],
   "source": []
  },
  {
   "cell_type": "markdown",
   "id": "baecfd17",
   "metadata": {},
   "source": [
    "Have a look at https://www.w3schools.com/python/python_datatypes.asp\n",
    "\n",
    "We will not use every data type in this class, but we will use many! These are the ones you should be familiar with:\n",
    "- Text Type:\tstr\n",
    "- Numeric Types:\tint, float\n",
    "- Sequence Types:\tlist, tuple, range\n",
    "- Mapping Type:\tdict\n",
    "- Set Types:\tset\n",
    "- Boolean Type:\tbool\n",
    "\n",
    "Create a variable called n and assign 17 divided by 2 to it, then output the value of n.\n",
    "\n",
    "*Pro tip- If you want to output just one variable in a Notebook cell, you don't need print(). Just state the variable!*"
   ]
  },
  {
   "cell_type": "code",
   "execution_count": null,
   "id": "2d71ccbc",
   "metadata": {},
   "outputs": [],
   "source": []
  },
  {
   "cell_type": "markdown",
   "id": "44946757",
   "metadata": {},
   "source": [
    "Now do the same thing, but cast the quotient into an int before outputting."
   ]
  },
  {
   "cell_type": "code",
   "execution_count": null,
   "id": "3c9560fb",
   "metadata": {},
   "outputs": [],
   "source": []
  },
  {
   "cell_type": "markdown",
   "id": "afddb500",
   "metadata": {},
   "source": [
    "## Strings\n",
    "\n",
    "Run the following cell to initialize a string variable that we will use."
   ]
  },
  {
   "cell_type": "code",
   "execution_count": 1,
   "id": "baf800b6",
   "metadata": {},
   "outputs": [],
   "source": [
    "s = \"I would rather be rich than stupid.\""
   ]
  },
  {
   "cell_type": "markdown",
   "id": "863a1db9",
   "metadata": {},
   "source": [
    "### Accessing Characters of a String\n",
    "\n",
    "Using the variable and the [ ] accessor notation, print the letter \"d\" from the string."
   ]
  },
  {
   "cell_type": "code",
   "execution_count": null,
   "id": "b1da2a5b",
   "metadata": {},
   "outputs": [],
   "source": []
  },
  {
   "cell_type": "markdown",
   "id": "1fbda99f",
   "metadata": {},
   "source": [
    "### Looping through a String & String Length\n",
    "\n",
    "Using a loop, print each character of the string on a separate line. Then, print the length of the string."
   ]
  },
  {
   "cell_type": "code",
   "execution_count": null,
   "id": "a93237c1",
   "metadata": {},
   "outputs": [],
   "source": []
  },
  {
   "cell_type": "markdown",
   "id": "7e96a38c",
   "metadata": {},
   "source": [
    "### Checking for Substrings\n",
    "\n",
    "Programmatically check that the substring \"rich\" is in the string and the substring \"smart\" is not in the string."
   ]
  },
  {
   "cell_type": "code",
   "execution_count": null,
   "id": "bc5c920f",
   "metadata": {},
   "outputs": [],
   "source": []
  },
  {
   "cell_type": "markdown",
   "id": "a2ffc65e",
   "metadata": {},
   "source": [
    "### Slicing Strings\n",
    "\n",
    "Use the string to print \"I would\" using a slice. (Notice that the second number in a slice is an index that is not included in the result.)"
   ]
  },
  {
   "cell_type": "code",
   "execution_count": null,
   "id": "1b340668",
   "metadata": {},
   "outputs": [],
   "source": []
  },
  {
   "cell_type": "markdown",
   "id": "12f594bf",
   "metadata": {},
   "source": [
    "### Modifying Strings\n",
    "\n",
    "Using the string from above, create a new string called \"loud\" that is an uppercase version of the original. Output both strings to ensure that the original was not modified."
   ]
  },
  {
   "cell_type": "code",
   "execution_count": null,
   "id": "518826f6",
   "metadata": {},
   "outputs": [],
   "source": []
  },
  {
   "cell_type": "markdown",
   "id": "ac19d268",
   "metadata": {},
   "source": [
    "### String Methods\n",
    "\n",
    "Take the original string and replace the word \"rich\" with \"smart\". Output the string to show that it was modified.\n",
    "\n",
    "*Hint: look for string methods in the w3schools reference*"
   ]
  },
  {
   "cell_type": "code",
   "execution_count": null,
   "id": "3f4d60ba",
   "metadata": {},
   "outputs": [],
   "source": []
  },
  {
   "cell_type": "markdown",
   "id": "f8bcf1c3",
   "metadata": {},
   "source": [
    "Read through all the string methods that are shown on https://www.w3schools.com/python/python_strings_methods.asp so that you are aware of their existence!"
   ]
  },
  {
   "cell_type": "markdown",
   "id": "264ef677",
   "metadata": {},
   "source": [
    "### Formatted String Literals\n",
    "\n",
    "There is a new-ish way to avoid ugly string concatenations. For example, run the following cell:"
   ]
  },
  {
   "cell_type": "code",
   "execution_count": 2,
   "id": "500188a2",
   "metadata": {},
   "outputs": [
    {
     "data": {
      "text/plain": [
       "'Mr. Gorton, thank you!'"
      ]
     },
     "execution_count": 2,
     "metadata": {},
     "output_type": "execute_result"
    }
   ],
   "source": [
    "name = \"Mr. Gorton\"\n",
    "\n",
    "new_string = f\"{name}, thank you!\"\n",
    "new_string"
   ]
  },
  {
   "cell_type": "markdown",
   "id": "5feae7b5",
   "metadata": {},
   "source": [
    "You can use whatever you prefer, but f-strings are sometimes cleaner when you have a few items to concatenate."
   ]
  }
 ],
 "metadata": {
  "kernelspec": {
   "display_name": "Python 3 (ipykernel)",
   "language": "python",
   "name": "python3"
  },
  "language_info": {
   "codemirror_mode": {
    "name": "ipython",
    "version": 3
   },
   "file_extension": ".py",
   "mimetype": "text/x-python",
   "name": "python",
   "nbconvert_exporter": "python",
   "pygments_lexer": "ipython3",
   "version": "3.9.12"
  }
 },
 "nbformat": 4,
 "nbformat_minor": 5
}

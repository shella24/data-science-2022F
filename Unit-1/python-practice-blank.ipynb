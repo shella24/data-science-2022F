{
 "cells": [
  {
   "cell_type": "markdown",
   "id": "1f00e917",
   "metadata": {},
   "source": [
    "# Python Practice\n",
    "---\n",
    "\n",
    "## Boptalk\n",
    "\n",
    "Boptalk is a secret language allowing those who know it to communicate in unreasonably long and silly sentences. For instance, if I wanted to say \"hello\" in Boptalk, I would say \"hop e lop lop o\".\n",
    "\n",
    "The logic is this: for each letter in the sentence you want to speak, if that letter is a vowel you simply say it, otherwise you add \"op\" to it.\n",
    "\n",
    "In the cell below, use the .input() function to get input from the user. (Look it up if you don't know how.)\n",
    "\n",
    "Then, taking that input, create and display the Boptalk output. For this problem, you can use strings alone."
   ]
  },
  {
   "cell_type": "code",
   "execution_count": null,
   "id": "02d4cfd9",
   "metadata": {},
   "outputs": [],
   "source": []
  },
  {
   "cell_type": "markdown",
   "id": "ffe854b3",
   "metadata": {},
   "source": [
    "## One-line Boptalk 🌶️\n",
    "\n",
    "Now, can you use list comprehension to do it in one line (except the vowels declaration and input)?\n",
    "\n",
    "You will need to convert the list into a string with spaces inserted. Google how to do this."
   ]
  },
  {
   "cell_type": "code",
   "execution_count": null,
   "id": "9fccb559",
   "metadata": {},
   "outputs": [],
   "source": []
  },
  {
   "cell_type": "markdown",
   "id": "64428c7d",
   "metadata": {},
   "source": [
    "## Dictionaries 🌶️🌶️\n",
    "\n",
    "There is a Python file that you should have in the same directory as this Notebook, called book.py. It is a simple Python script that contains one very long list of lowercase words. You can use that list in this Notebook by importing it like so:\n",
    "\n",
    "```python\n",
    "from book import words\n",
    "```\n",
    "\n",
    "You will then have a list stored in the variable \"words\". Go ahead and import the data and output it to verify. (It is so long that you won't see all 58,110 words.)"
   ]
  },
  {
   "cell_type": "code",
   "execution_count": null,
   "id": "00a16af1",
   "metadata": {},
   "outputs": [],
   "source": []
  },
  {
   "cell_type": "markdown",
   "id": "8760a39a",
   "metadata": {},
   "source": [
    "Now the tricky part. Create a dictionary with 26 keys, each key being a letter of the alphabet. And, the value associated with each key is a list of all the words in the big word list that begin with that letter. Output it to verify.\n",
    "\n",
    "*Hint- you may not be able to do this efficiently in a single step.*"
   ]
  },
  {
   "cell_type": "code",
   "execution_count": null,
   "id": "b0b17c86",
   "metadata": {},
   "outputs": [],
   "source": []
  },
  {
   "cell_type": "markdown",
   "id": "4f7ce601",
   "metadata": {},
   "source": [
    "Use your dictionary to create a new dictionary that has each letter of the alphabet and the number of words that start with that letter."
   ]
  },
  {
   "cell_type": "code",
   "execution_count": null,
   "id": "9fcb372d",
   "metadata": {},
   "outputs": [],
   "source": []
  },
  {
   "cell_type": "markdown",
   "id": "44a4bcf8",
   "metadata": {},
   "source": [
    "What is the most common first letter in your list of words? (You can just look at your dictionary to answer this.)"
   ]
  }
 ],
 "metadata": {
  "kernelspec": {
   "display_name": "Python 3 (ipykernel)",
   "language": "python",
   "name": "python3"
  },
  "language_info": {
   "codemirror_mode": {
    "name": "ipython",
    "version": 3
   },
   "file_extension": ".py",
   "mimetype": "text/x-python",
   "name": "python",
   "nbconvert_exporter": "python",
   "pygments_lexer": "ipython3",
   "version": "3.9.12"
  }
 },
 "nbformat": 4,
 "nbformat_minor": 5
}

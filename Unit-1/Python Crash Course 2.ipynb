{
 "cells": [
  {
   "cell_type": "markdown",
   "id": "a4119ab6",
   "metadata": {},
   "source": [
    "# Python Crash Course 2!"
   ]
  },
  {
   "cell_type": "markdown",
   "id": "adcc97ff",
   "metadata": {},
   "source": [
    "# Booleans"
   ]
  },
  {
   "cell_type": "code",
   "execution_count": 14,
   "id": "3732a523",
   "metadata": {},
   "outputs": [],
   "source": [
    "x = 4\n",
    "\n",
    "if x > 6:\n",
    "    print(\"True\")"
   ]
  },
  {
   "cell_type": "markdown",
   "id": "e966ee84",
   "metadata": {},
   "source": [
    "# Operators"
   ]
  },
  {
   "cell_type": "code",
   "execution_count": 21,
   "id": "91c9ba32",
   "metadata": {},
   "outputs": [
    {
     "name": "stdout",
     "output_type": "stream",
     "text": [
      "20\n"
     ]
    }
   ],
   "source": [
    "age = 16 \n",
    "print (age + 4)"
   ]
  },
  {
   "cell_type": "code",
   "execution_count": 25,
   "id": "a43d9f13",
   "metadata": {},
   "outputs": [
    {
     "data": {
      "text/plain": [
       "False"
      ]
     },
     "execution_count": 25,
     "metadata": {},
     "output_type": "execute_result"
    }
   ],
   "source": [
    "age != 12"
   ]
  },
  {
   "cell_type": "code",
   "execution_count": 27,
   "id": "d606fd03",
   "metadata": {},
   "outputs": [
    {
     "data": {
      "text/plain": [
       "True"
      ]
     },
     "execution_count": 27,
     "metadata": {},
     "output_type": "execute_result"
    }
   ],
   "source": [
    "age > 12 \n",
    "age < 24"
   ]
  },
  {
   "cell_type": "markdown",
   "id": "1fada75a",
   "metadata": {},
   "source": [
    "# Lists"
   ]
  },
  {
   "cell_type": "code",
   "execution_count": 32,
   "id": "8337f0b7",
   "metadata": {},
   "outputs": [
    {
     "name": "stdout",
     "output_type": "stream",
     "text": [
      "['Algebra', 'Physics', 'Python', 'History', 'English', 'Psychology', 'Latin']\n"
     ]
    }
   ],
   "source": [
    "Courses = ['Algebra', 'Physics', 'Python', 'History', 'English', 'Psychology', 'Latin']\n",
    "print(Courses)"
   ]
  },
  {
   "cell_type": "code",
   "execution_count": 6,
   "id": "39a312ab",
   "metadata": {},
   "outputs": [
    {
     "name": "stdout",
     "output_type": "stream",
     "text": [
      "Physics\n"
     ]
    }
   ],
   "source": [
    "print(Courses[1])"
   ]
  },
  {
   "cell_type": "code",
   "execution_count": 9,
   "id": "9511e92c",
   "metadata": {},
   "outputs": [
    {
     "name": "stdout",
     "output_type": "stream",
     "text": [
      "['Algebra', 'Physics', 'Python', 'History', 'Literature', 'Psychology', 'Latin']\n"
     ]
    }
   ],
   "source": [
    "Courses[4] = 'Literature'\n",
    "print(Courses)"
   ]
  },
  {
   "cell_type": "code",
   "execution_count": 11,
   "id": "97a56982",
   "metadata": {},
   "outputs": [
    {
     "name": "stdout",
     "output_type": "stream",
     "text": [
      "['Algebra', 'Physics']\n"
     ]
    }
   ],
   "source": [
    "print(Courses[0:2])"
   ]
  },
  {
   "cell_type": "code",
   "execution_count": 21,
   "id": "d427c255",
   "metadata": {},
   "outputs": [
    {
     "name": "stdout",
     "output_type": "stream",
     "text": [
      "['Algebra', 'Physics', 'Python', 'History', 'Literature', 'Psychology', 'Latin', 'Art']\n"
     ]
    }
   ],
   "source": [
    "Courses.append('Art')\n",
    "print(Courses)"
   ]
  },
  {
   "cell_type": "code",
   "execution_count": 22,
   "id": "f5268b26",
   "metadata": {},
   "outputs": [
    {
     "name": "stdout",
     "output_type": "stream",
     "text": [
      "['Algebra', 'Physics', 'Python', 'History', 'Literature', 'Psychology', 'Latin']\n"
     ]
    }
   ],
   "source": [
    "Courses.remove('Art')\n",
    "print(Courses)"
   ]
  },
  {
   "cell_type": "code",
   "execution_count": 39,
   "id": "b464a4aa",
   "metadata": {},
   "outputs": [
    {
     "name": "stdout",
     "output_type": "stream",
     "text": [
      "['Python', 'Lunch', 'History', 'English', 'Psychology', 'Latin']\n"
     ]
    }
   ],
   "source": [
    "Courses.insert(2, 'Lunch')\n",
    "Courses.pop(0)\n",
    "print(Courses)"
   ]
  },
  {
   "cell_type": "code",
   "execution_count": 36,
   "id": "ef78accd",
   "metadata": {},
   "outputs": [
    {
     "name": "stdout",
     "output_type": "stream",
     "text": [
      "Physics\n",
      "Lunch\n",
      "Lunch\n",
      "Python\n",
      "History\n",
      "English\n",
      "Psychology\n",
      "Latin\n"
     ]
    }
   ],
   "source": [
    "for s in Courses:\n",
    "    print(s)"
   ]
  },
  {
   "cell_type": "code",
   "execution_count": 42,
   "id": "97318272",
   "metadata": {},
   "outputs": [
    {
     "name": "stdout",
     "output_type": "stream",
     "text": [
      "['English', 'History', 'Latin', 'Lunch', 'Physics', 'Psychology', 'Python']\n"
     ]
    }
   ],
   "source": [
    "Courses.sort()\n",
    "print(Courses)"
   ]
  },
  {
   "cell_type": "code",
   "execution_count": 52,
   "id": "97721230",
   "metadata": {},
   "outputs": [
    {
     "name": "stdout",
     "output_type": "stream",
     "text": [
      "['English', 'History', 'Latin', 'Lunch', 'Physics', 'Psychology', 'Python']\n"
     ]
    }
   ],
   "source": [
    "mycourses = ['English', 'History', 'Latin', 'Lunch', 'Physics', 'Psychology', 'Python']\n",
    "Courses = mycourses.copy()\n",
    "print(mycourses)"
   ]
  },
  {
   "cell_type": "code",
   "execution_count": 53,
   "id": "e47368b3",
   "metadata": {},
   "outputs": [
    {
     "name": "stdout",
     "output_type": "stream",
     "text": [
      "['English', 'History', 'Latin', 'Lunch', 'Physics', 'Psychology', 'Python', 'Art']\n",
      "['English', 'History', 'Latin', 'Lunch', 'Physics', 'Psychology', 'Python']\n"
     ]
    }
   ],
   "source": [
    "mycourses.append(\"Art\")\n",
    "print(mycourses)\n",
    "print(Courses)"
   ]
  },
  {
   "cell_type": "code",
   "execution_count": 58,
   "id": "7d834820",
   "metadata": {},
   "outputs": [
    {
     "name": "stdout",
     "output_type": "stream",
     "text": [
      "1\n"
     ]
    }
   ],
   "source": [
    "x = Courses.count(\"History\")\n",
    "print(x)"
   ]
  },
  {
   "cell_type": "markdown",
   "id": "096bea25",
   "metadata": {},
   "source": [
    "# Tuples"
   ]
  },
  {
   "cell_type": "code",
   "execution_count": 59,
   "id": "772fdb51",
   "metadata": {},
   "outputs": [
    {
     "name": "stdout",
     "output_type": "stream",
     "text": [
      "('mac_and_cheese', 'pork_chop', 'corn')\n"
     ]
    }
   ],
   "source": [
    "favorite_foods = ('mac_and_cheese', 'pork_chop', 'corn')\n",
    "print(favorite_foods)"
   ]
  },
  {
   "cell_type": "code",
   "execution_count": 60,
   "id": "5decd312",
   "metadata": {},
   "outputs": [
    {
     "name": "stdout",
     "output_type": "stream",
     "text": [
      "('Sunday', 'Monday', 'Tuesday', 'Wednesday', 'Thursday', 'Friday')\n"
     ]
    }
   ],
   "source": [
    "days_of_week = ('Sunday', 'Monday', 'Tuesday', 'Wednesday', 'Thursday', 'Friday')\n",
    "print(days_of_week)"
   ]
  },
  {
   "cell_type": "markdown",
   "id": "f0aaedb6",
   "metadata": {},
   "source": [
    "# Sets"
   ]
  },
  {
   "cell_type": "code",
   "execution_count": 68,
   "id": "ca3970db",
   "metadata": {},
   "outputs": [
    {
     "name": "stdout",
     "output_type": "stream",
     "text": [
      "{'banana', 'apple', 'cherry', 'avacado'}\n",
      "banana\n",
      "apple\n",
      "cherry\n",
      "avacado\n",
      "True\n"
     ]
    }
   ],
   "source": [
    "types_of_fruits = {'apple', 'banana', 'cherry'}\n",
    "types_of_fruits.add('avacado')\n",
    "print(types_of_fruits)\n",
    "for x in types_of_fruits:\n",
    "    print(x)\n",
    "if 'banana' in types_of_fruits:\n",
    "    print(True)"
   ]
  },
  {
   "cell_type": "code",
   "execution_count": null,
   "id": "8b837bbc",
   "metadata": {},
   "outputs": [],
   "source": []
  }
 ],
 "metadata": {
  "kernelspec": {
   "display_name": "Python 3 (ipykernel)",
   "language": "python",
   "name": "python3"
  },
  "language_info": {
   "codemirror_mode": {
    "name": "ipython",
    "version": 3
   },
   "file_extension": ".py",
   "mimetype": "text/x-python",
   "name": "python",
   "nbconvert_exporter": "python",
   "pygments_lexer": "ipython3",
   "version": "3.9.12"
  }
 },
 "nbformat": 4,
 "nbformat_minor": 5
}

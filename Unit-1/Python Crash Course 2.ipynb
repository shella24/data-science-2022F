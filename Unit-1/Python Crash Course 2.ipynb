{
 "cells": [
  {
   "cell_type": "markdown",
   "id": "a4119ab6",
   "metadata": {},
   "source": [
    "# Python Crash Course 2!"
   ]
  },
  {
   "cell_type": "markdown",
   "id": "adcc97ff",
   "metadata": {},
   "source": [
    "# Booleans"
   ]
  },
  {
   "cell_type": "code",
   "execution_count": 14,
   "id": "3732a523",
   "metadata": {},
   "outputs": [],
   "source": [
    "x = 4\n",
    "\n",
    "if x > 6:\n",
    "    print(\"True\")"
   ]
  },
  {
   "cell_type": "markdown",
   "id": "e966ee84",
   "metadata": {},
   "source": [
    "# Operators"
   ]
  },
  {
   "cell_type": "code",
   "execution_count": 21,
   "id": "91c9ba32",
   "metadata": {},
   "outputs": [
    {
     "name": "stdout",
     "output_type": "stream",
     "text": [
      "20\n"
     ]
    }
   ],
   "source": [
    "age = 16 \n",
    "print (age + 4)"
   ]
  },
  {
   "cell_type": "code",
   "execution_count": 25,
   "id": "a43d9f13",
   "metadata": {},
   "outputs": [
    {
     "data": {
      "text/plain": [
       "False"
      ]
     },
     "execution_count": 25,
     "metadata": {},
     "output_type": "execute_result"
    }
   ],
   "source": [
    "age != 12"
   ]
  },
  {
   "cell_type": "code",
   "execution_count": 27,
   "id": "d606fd03",
   "metadata": {},
   "outputs": [
    {
     "data": {
      "text/plain": [
       "True"
      ]
     },
     "execution_count": 27,
     "metadata": {},
     "output_type": "execute_result"
    }
   ],
   "source": [
    "age > 12 \n",
    "age < 24"
   ]
  },
  {
   "cell_type": "markdown",
   "id": "1fada75a",
   "metadata": {},
   "source": [
    "# Collections"
   ]
  },
  {
   "cell_type": "code",
   "execution_count": null,
   "id": "8337f0b7",
   "metadata": {},
   "outputs": [],
   "source": []
  }
 ],
 "metadata": {
  "kernelspec": {
   "display_name": "Python 3 (ipykernel)",
   "language": "python",
   "name": "python3"
  },
  "language_info": {
   "codemirror_mode": {
    "name": "ipython",
    "version": 3
   },
   "file_extension": ".py",
   "mimetype": "text/x-python",
   "name": "python",
   "nbconvert_exporter": "python",
   "pygments_lexer": "ipython3",
   "version": "3.9.12"
  }
 },
 "nbformat": 4,
 "nbformat_minor": 5
}

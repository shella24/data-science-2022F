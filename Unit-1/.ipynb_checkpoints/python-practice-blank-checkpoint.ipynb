{
 "cells": [
  {
   "cell_type": "markdown",
   "id": "1f00e917",
   "metadata": {},
   "source": [
    "# Python Practice\n",
    "---\n",
    "\n",
    "## Boptalk\n",
    "\n",
    "Boptalk is a secret language allowing those who know it to communicate in unreasonably long and silly sentences. For instance, if I wanted to say \"hello\" in Boptalk, I would say \"hop e lop lop o\".\n",
    "\n",
    "The logic is this: for each letter in the sentence you want to speak, if that letter is a vowel you simply say it, otherwise you add \"op\" to it.\n",
    "\n",
    "In the cell below, use the .input() function to get input from the user. (Look it up if you don't know how.)\n",
    "\n",
    "Then, taking that input, create and display the Boptalk output. For this problem, you can use strings alone."
   ]
  },
  {
   "cell_type": "code",
   "execution_count": 54,
   "id": "02d4cfd9",
   "metadata": {},
   "outputs": [
    {
     "name": "stdout",
     "output_type": "stream",
     "text": [
      "super\n"
     ]
    },
    {
     "data": {
      "text/plain": [
       "'sop upop erop '"
      ]
     },
     "execution_count": 54,
     "metadata": {},
     "output_type": "execute_result"
    }
   ],
   "source": [
    "word = input()\n",
    "vowels= ('e' ,'i' ,'a' ,'u' ,'o')\n",
    "boptalk = \"\"\n",
    "\n",
    "for letter in word:\n",
    "    if letter in vowels:\n",
    "        boptalk += letter\n",
    "    else:\n",
    "        boptalk += letter + 'op '\n",
    "    \n",
    "boptalk"
   ]
  },
  {
   "cell_type": "markdown",
   "id": "ffe854b3",
   "metadata": {},
   "source": [
    "## One-line Boptalk 🌶️\n",
    "\n",
    "Now, can you use list comprehension to do it in one line (except the vowels declaration and input)?\n",
    "\n",
    "You will need to convert the list into a string with spaces inserted. Google how to do this."
   ]
  },
  {
   "cell_type": "code",
   "execution_count": 9,
   "id": "9fccb559",
   "metadata": {},
   "outputs": [
    {
     "ename": "SyntaxError",
     "evalue": "invalid syntax (142975374.py, line 4)",
     "output_type": "error",
     "traceback": [
      "\u001b[0;36m  Input \u001b[0;32mIn [9]\u001b[0;36m\u001b[0m\n\u001b[0;31m    print(boptalk) if letter in vowels boptalk += letter else boptalk += letter + 'op'\u001b[0m\n\u001b[0m                                       ^\u001b[0m\n\u001b[0;31mSyntaxError\u001b[0m\u001b[0;31m:\u001b[0m invalid syntax\n"
     ]
    }
   ],
   "source": [
    "word = input()\n",
    "vowels= ('e' ,'i' ,'a' ,'u' ,'o')\n",
    "boptalk = \"\" \n",
    "print(boptalk) if letter in vowels boptalk += letter else boptalk += letter + 'op'\n",
    "        \n"
   ]
  },
  {
   "cell_type": "markdown",
   "id": "64428c7d",
   "metadata": {},
   "source": [
    "## Dictionaries 🌶️🌶️\n",
    "\n",
    "There is a Python file that you should have in the same directory as this Notebook, called book.py. It is a simple Python script that contains one very long list of lowercase words. You can use that list in this Notebook by importing it like so:\n",
    "\n",
    "```python\n",
    "from book import words\n",
    "```\n",
    "\n",
    "You will then have a list stored in the variable \"words\". Go ahead and import the data and output it to verify. (It is so long that you won't see all 58,110 words.)"
   ]
  },
  {
   "cell_type": "code",
   "execution_count": 11,
   "id": "00a16af1",
   "metadata": {},
   "outputs": [],
   "source": [
    "from book import words"
   ]
  },
  {
   "cell_type": "markdown",
   "id": "8760a39a",
   "metadata": {},
   "source": [
    "Now the tricky part. Create a dictionary with 26 keys, each key being a letter of the alphabet. And, the value associated with each key is a list of all the words in the big word list that begin with that letter. Output it to verify.\n",
    "\n",
    "*Hint- you may not be able to do this efficiently in a single step.*"
   ]
  },
  {
   "cell_type": "code",
   "execution_count": 19,
   "id": "b0b17c86",
   "metadata": {},
   "outputs": [
    {
     "ename": "NameError",
     "evalue": "name 'a' is not defined",
     "output_type": "error",
     "traceback": [
      "\u001b[0;31m---------------------------------------------------------------------------\u001b[0m",
      "\u001b[0;31mNameError\u001b[0m                                 Traceback (most recent call last)",
      "Input \u001b[0;32mIn [19]\u001b[0m, in \u001b[0;36m<cell line: 30>\u001b[0;34m()\u001b[0m\n\u001b[1;32m      1\u001b[0m dictionary \u001b[38;5;241m=\u001b[39m {\n\u001b[1;32m      2\u001b[0m     \u001b[38;5;124m'\u001b[39m\u001b[38;5;124ma\u001b[39m\u001b[38;5;124m'\u001b[39m : \u001b[38;5;124m'\u001b[39m\u001b[38;5;124m'\u001b[39m,\n\u001b[1;32m      3\u001b[0m     \u001b[38;5;124m'\u001b[39m\u001b[38;5;124mb\u001b[39m\u001b[38;5;124m'\u001b[39m : \u001b[38;5;124m'\u001b[39m\u001b[38;5;124m'\u001b[39m,\n\u001b[0;32m   (...)\u001b[0m\n\u001b[1;32m     27\u001b[0m     \u001b[38;5;124m'\u001b[39m\u001b[38;5;124mz\u001b[39m\u001b[38;5;124m'\u001b[39m : \u001b[38;5;124m'\u001b[39m\u001b[38;5;124m'\u001b[39m,\n\u001b[1;32m     28\u001b[0m }\n\u001b[0;32m---> 30\u001b[0m \u001b[38;5;28;01mif\u001b[39;00m \u001b[43ma\u001b[49m \u001b[38;5;129;01min\u001b[39;00m book[\u001b[38;5;241m0\u001b[39m]:\n\u001b[1;32m     31\u001b[0m     \u001b[38;5;28mprint\u001b[39m(words)\n\u001b[1;32m     33\u001b[0m d \u001b[38;5;241m=\u001b[39m dictionary\u001b[38;5;241m.\u001b[39mkeys()\n",
      "\u001b[0;31mNameError\u001b[0m: name 'a' is not defined"
     ]
    }
   ],
   "source": [
    "dictionary = {\n",
    "    'a' : '',\n",
    "    'b' : '',\n",
    "    'c' : '',\n",
    "    'd' : '',\n",
    "    'e' : '',\n",
    "    'f' : '',\n",
    "    'g' : '',\n",
    "    'h' : '',\n",
    "    'i' : '',\n",
    "    'j' : '',\n",
    "    'k' : '',\n",
    "    'l' : '',\n",
    "    'm' : '',\n",
    "    'n' : '',\n",
    "    'o' : '',\n",
    "    'p' : '',\n",
    "    'q' : '',\n",
    "    'r' : '',\n",
    "    's' : '',\n",
    "    't' : '',\n",
    "    'u' : '',\n",
    "    'v' : '',\n",
    "    'w' : '',\n",
    "    'x' : '',\n",
    "    'y' : '',\n",
    "    'z' : '',\n",
    "}\n",
    "\n",
    "d = dictionary.keys()\n",
    "\n",
    "print(d)"
   ]
  },
  {
   "cell_type": "code",
   "execution_count": 26,
   "id": "874c085f",
   "metadata": {},
   "outputs": [
    {
     "data": {
      "text/plain": [
       "{'a': [], 'b': [], 'c': []}"
      ]
     },
     "execution_count": 26,
     "metadata": {},
     "output_type": "execute_result"
    }
   ],
   "source": [
    "alphabet = ('a', 'b', 'c')\n",
    "dictionary = {}\n",
    "for ltr in alphabet:\n",
    "    dictionary[ltr]=[]\n",
    "dictionary"
   ]
  },
  {
   "cell_type": "markdown",
   "id": "4f7ce601",
   "metadata": {},
   "source": [
    "Use your dictionary to create a new dictionary that has each letter of the alphabet and the number of words that start with that letter."
   ]
  },
  {
   "cell_type": "code",
   "execution_count": null,
   "id": "9fcb372d",
   "metadata": {},
   "outputs": [],
   "source": []
  },
  {
   "cell_type": "markdown",
   "id": "44a4bcf8",
   "metadata": {},
   "source": [
    "What is the most common first letter in your list of words? (You can just look at your dictionary to answer this.)\n",
    "\n",
    "## Collection Counters 🌶️🌶️🌶️ (aka Ridiculous)\n",
    "\n",
    "See: https://stackoverflow.com/questions/613183/how-do-i-sort-a-dictionary-by-value\n",
    "\n",
    "What if you'd like to know the most common first letter of words in our list? You could try to somehow sort the dictionary from above.\n",
    "\n",
    "Or..."
   ]
  },
  {
   "cell_type": "code",
   "execution_count": null,
   "id": "1af99c44",
   "metadata": {},
   "outputs": [],
   "source": []
  },
  {
   "cell_type": "code",
   "execution_count": null,
   "id": "14f9571d",
   "metadata": {},
   "outputs": [],
   "source": []
  },
  {
   "cell_type": "code",
   "execution_count": null,
   "id": "c50a5ef5",
   "metadata": {},
   "outputs": [],
   "source": []
  },
  {
   "cell_type": "markdown",
   "id": "4903b953",
   "metadata": {},
   "source": [
    "And of course, I want to know the most common first two letters in my word list, and do it in one line of code!"
   ]
  },
  {
   "cell_type": "code",
   "execution_count": null,
   "id": "dfe4734f",
   "metadata": {},
   "outputs": [],
   "source": []
  },
  {
   "cell_type": "markdown",
   "id": "41b15b3b",
   "metadata": {},
   "source": [
    "How many combinations are there?"
   ]
  }
 ],
 "metadata": {
  "kernelspec": {
   "display_name": "Python 3 (ipykernel)",
   "language": "python",
   "name": "python3"
  },
  "language_info": {
   "codemirror_mode": {
    "name": "ipython",
    "version": 3
   },
   "file_extension": ".py",
   "mimetype": "text/x-python",
   "name": "python",
   "nbconvert_exporter": "python",
   "pygments_lexer": "ipython3",
   "version": "3.9.12"
  }
 },
 "nbformat": 4,
 "nbformat_minor": 5
}

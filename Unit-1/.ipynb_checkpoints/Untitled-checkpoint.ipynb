{
 "cells": [
  {
   "cell_type": "code",
   "execution_count": 38,
   "id": "5e02d5bb",
   "metadata": {},
   "outputs": [
    {
     "data": {
      "text/plain": [
       "{'a': ['cat'], 'b': ['cat'], 'c': ['cat']}"
      ]
     },
     "execution_count": 38,
     "metadata": {},
     "output_type": "execute_result"
    }
   ],
   "source": [
    "wrds = ('apple', 'dog', 'cat')\n",
    "alphabet = ('a', 'b', 'c')\n",
    "dictionary = {}\n",
    "for ltr in alphabet:\n",
    "    dictionary[ltr]=[]\n",
    "    for x in wrds:\n",
    "        if x in wrds:\n",
    "            dictionary[ltr]=[x]\n",
    "dictionary"
   ]
  },
  {
   "cell_type": "code",
   "execution_count": 3,
   "id": "78ef41c3",
   "metadata": {},
   "outputs": [
    {
     "name": "stdout",
     "output_type": "stream",
     "text": [
      "There is an S in your string\n"
     ]
    }
   ],
   "source": [
    "yourString = \"string\"\n",
    "\n",
    "if \"s\" in yourString:\n",
    "  print(\"There is an S in your string\")"
   ]
  },
  {
   "cell_type": "code",
   "execution_count": 39,
   "id": "90fcbf26",
   "metadata": {},
   "outputs": [
    {
     "name": "stdout",
     "output_type": "stream",
     "text": [
      "yes\n",
      "yes\n",
      "yes\n"
     ]
    }
   ],
   "source": [
    "wrds = ('apple', 'dog', 'cat')\n",
    "for x in wrds:\n",
    "        if x in wrds:\n",
    "            print('yes')"
   ]
  },
  {
   "cell_type": "code",
   "execution_count": null,
   "id": "0ae72593",
   "metadata": {},
   "outputs": [],
   "source": []
  }
 ],
 "metadata": {
  "kernelspec": {
   "display_name": "Python 3 (ipykernel)",
   "language": "python",
   "name": "python3"
  },
  "language_info": {
   "codemirror_mode": {
    "name": "ipython",
    "version": 3
   },
   "file_extension": ".py",
   "mimetype": "text/x-python",
   "name": "python",
   "nbconvert_exporter": "python",
   "pygments_lexer": "ipython3",
   "version": "3.9.12"
  }
 },
 "nbformat": 4,
 "nbformat_minor": 5
}

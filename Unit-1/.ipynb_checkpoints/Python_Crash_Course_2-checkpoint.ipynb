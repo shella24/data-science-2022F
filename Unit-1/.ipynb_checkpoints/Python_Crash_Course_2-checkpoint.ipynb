{
 "cells": [
  {
   "cell_type": "markdown",
   "id": "a4119ab6",
   "metadata": {},
   "source": [
    "# Python Crash Course 2!"
   ]
  },
  {
   "cell_type": "markdown",
   "id": "adcc97ff",
   "metadata": {},
   "source": [
    "# Booleans"
   ]
  },
  {
   "cell_type": "code",
   "execution_count": 14,
   "id": "3732a523",
   "metadata": {},
   "outputs": [],
   "source": [
    "x = 4\n",
    "\n",
    "if x > 6:\n",
    "    print(\"True\")"
   ]
  },
  {
   "cell_type": "markdown",
   "id": "e966ee84",
   "metadata": {},
   "source": [
    "# Operators"
   ]
  },
  {
   "cell_type": "code",
   "execution_count": 21,
   "id": "91c9ba32",
   "metadata": {},
   "outputs": [
    {
     "name": "stdout",
     "output_type": "stream",
     "text": [
      "20\n"
     ]
    }
   ],
   "source": [
    "age = 16 \n",
    "print (age + 4)"
   ]
  },
  {
   "cell_type": "code",
   "execution_count": 25,
   "id": "a43d9f13",
   "metadata": {},
   "outputs": [
    {
     "data": {
      "text/plain": [
       "False"
      ]
     },
     "execution_count": 25,
     "metadata": {},
     "output_type": "execute_result"
    }
   ],
   "source": [
    "age != 12"
   ]
  },
  {
   "cell_type": "code",
   "execution_count": 27,
   "id": "d606fd03",
   "metadata": {},
   "outputs": [
    {
     "data": {
      "text/plain": [
       "True"
      ]
     },
     "execution_count": 27,
     "metadata": {},
     "output_type": "execute_result"
    }
   ],
   "source": [
    "age > 12 \n",
    "age < 24"
   ]
  },
  {
   "cell_type": "markdown",
   "id": "1fada75a",
   "metadata": {},
   "source": [
    "# Lists"
   ]
  },
  {
   "cell_type": "code",
   "execution_count": 32,
   "id": "8337f0b7",
   "metadata": {},
   "outputs": [
    {
     "name": "stdout",
     "output_type": "stream",
     "text": [
      "['Algebra', 'Physics', 'Python', 'History', 'English', 'Psychology', 'Latin']\n"
     ]
    }
   ],
   "source": [
    "Courses = ['Algebra', 'Physics', 'Python', 'History', 'English', 'Psychology', 'Latin']\n",
    "print(Courses)"
   ]
  },
  {
   "cell_type": "code",
   "execution_count": 6,
   "id": "39a312ab",
   "metadata": {},
   "outputs": [
    {
     "name": "stdout",
     "output_type": "stream",
     "text": [
      "Physics\n"
     ]
    }
   ],
   "source": [
    "print(Courses[1])"
   ]
  },
  {
   "cell_type": "code",
   "execution_count": 9,
   "id": "9511e92c",
   "metadata": {},
   "outputs": [
    {
     "name": "stdout",
     "output_type": "stream",
     "text": [
      "['Algebra', 'Physics', 'Python', 'History', 'Literature', 'Psychology', 'Latin']\n"
     ]
    }
   ],
   "source": [
    "Courses[4] = 'Literature'\n",
    "print(Courses)"
   ]
  },
  {
   "cell_type": "code",
   "execution_count": 11,
   "id": "97a56982",
   "metadata": {},
   "outputs": [
    {
     "name": "stdout",
     "output_type": "stream",
     "text": [
      "['Algebra', 'Physics']\n"
     ]
    }
   ],
   "source": [
    "print(Courses[0:2])"
   ]
  },
  {
   "cell_type": "code",
   "execution_count": 21,
   "id": "d427c255",
   "metadata": {},
   "outputs": [
    {
     "name": "stdout",
     "output_type": "stream",
     "text": [
      "['Algebra', 'Physics', 'Python', 'History', 'Literature', 'Psychology', 'Latin', 'Art']\n"
     ]
    }
   ],
   "source": [
    "Courses.append('Art')\n",
    "print(Courses)"
   ]
  },
  {
   "cell_type": "code",
   "execution_count": 22,
   "id": "f5268b26",
   "metadata": {},
   "outputs": [
    {
     "name": "stdout",
     "output_type": "stream",
     "text": [
      "['Algebra', 'Physics', 'Python', 'History', 'Literature', 'Psychology', 'Latin']\n"
     ]
    }
   ],
   "source": [
    "Courses.remove('Art')\n",
    "print(Courses)"
   ]
  },
  {
   "cell_type": "code",
   "execution_count": 39,
   "id": "b464a4aa",
   "metadata": {},
   "outputs": [
    {
     "name": "stdout",
     "output_type": "stream",
     "text": [
      "['Python', 'Lunch', 'History', 'English', 'Psychology', 'Latin']\n"
     ]
    }
   ],
   "source": [
    "Courses.insert(2, 'Lunch')\n",
    "Courses.pop(0)\n",
    "print(Courses)"
   ]
  },
  {
   "cell_type": "code",
   "execution_count": 36,
   "id": "ef78accd",
   "metadata": {},
   "outputs": [
    {
     "name": "stdout",
     "output_type": "stream",
     "text": [
      "Physics\n",
      "Lunch\n",
      "Lunch\n",
      "Python\n",
      "History\n",
      "English\n",
      "Psychology\n",
      "Latin\n"
     ]
    }
   ],
   "source": [
    "for s in Courses:\n",
    "    print(s)"
   ]
  },
  {
   "cell_type": "code",
   "execution_count": 42,
   "id": "97318272",
   "metadata": {},
   "outputs": [
    {
     "name": "stdout",
     "output_type": "stream",
     "text": [
      "['English', 'History', 'Latin', 'Lunch', 'Physics', 'Psychology', 'Python']\n"
     ]
    }
   ],
   "source": [
    "Courses.sort()\n",
    "print(Courses)"
   ]
  },
  {
   "cell_type": "code",
   "execution_count": 52,
   "id": "97721230",
   "metadata": {},
   "outputs": [
    {
     "name": "stdout",
     "output_type": "stream",
     "text": [
      "['English', 'History', 'Latin', 'Lunch', 'Physics', 'Psychology', 'Python']\n"
     ]
    }
   ],
   "source": [
    "mycourses = ['English', 'History', 'Latin', 'Lunch', 'Physics', 'Psychology', 'Python']\n",
    "Courses = mycourses.copy()\n",
    "print(mycourses)"
   ]
  },
  {
   "cell_type": "code",
   "execution_count": 53,
   "id": "e47368b3",
   "metadata": {},
   "outputs": [
    {
     "name": "stdout",
     "output_type": "stream",
     "text": [
      "['English', 'History', 'Latin', 'Lunch', 'Physics', 'Psychology', 'Python', 'Art']\n",
      "['English', 'History', 'Latin', 'Lunch', 'Physics', 'Psychology', 'Python']\n"
     ]
    }
   ],
   "source": [
    "mycourses.append(\"Art\")\n",
    "print(mycourses)\n",
    "print(Courses)"
   ]
  },
  {
   "cell_type": "code",
   "execution_count": 58,
   "id": "7d834820",
   "metadata": {},
   "outputs": [
    {
     "name": "stdout",
     "output_type": "stream",
     "text": [
      "1\n"
     ]
    }
   ],
   "source": [
    "x = Courses.count(\"History\")\n",
    "print(x)"
   ]
  },
  {
   "cell_type": "markdown",
   "id": "096bea25",
   "metadata": {},
   "source": [
    "# Tuples"
   ]
  },
  {
   "cell_type": "code",
   "execution_count": 59,
   "id": "772fdb51",
   "metadata": {},
   "outputs": [
    {
     "name": "stdout",
     "output_type": "stream",
     "text": [
      "('mac_and_cheese', 'pork_chop', 'corn')\n"
     ]
    }
   ],
   "source": [
    "favorite_foods = ('mac_and_cheese', 'pork_chop', 'corn')\n",
    "print(favorite_foods)"
   ]
  },
  {
   "cell_type": "code",
   "execution_count": 60,
   "id": "5decd312",
   "metadata": {},
   "outputs": [
    {
     "name": "stdout",
     "output_type": "stream",
     "text": [
      "('Sunday', 'Monday', 'Tuesday', 'Wednesday', 'Thursday', 'Friday')\n"
     ]
    }
   ],
   "source": [
    "days_of_week = ('Sunday', 'Monday', 'Tuesday', 'Wednesday', 'Thursday', 'Friday')\n",
    "print(days_of_week)"
   ]
  },
  {
   "cell_type": "markdown",
   "id": "f0aaedb6",
   "metadata": {},
   "source": [
    "# Sets"
   ]
  },
  {
   "cell_type": "code",
   "execution_count": 68,
   "id": "ca3970db",
   "metadata": {},
   "outputs": [
    {
     "name": "stdout",
     "output_type": "stream",
     "text": [
      "{'banana', 'apple', 'cherry', 'avacado'}\n",
      "banana\n",
      "apple\n",
      "cherry\n",
      "avacado\n",
      "True\n"
     ]
    }
   ],
   "source": [
    "types_of_fruits = {'apple', 'banana', 'cherry'}\n",
    "types_of_fruits.add('avacado')\n",
    "print(types_of_fruits)\n",
    "for x in types_of_fruits:\n",
    "    print(x)\n",
    "if 'banana' in types_of_fruits:\n",
    "    print(True)"
   ]
  },
  {
   "cell_type": "markdown",
   "id": "60345530",
   "metadata": {},
   "source": [
    "# Dictionaries"
   ]
  },
  {
   "cell_type": "code",
   "execution_count": 3,
   "id": "c9b7e034",
   "metadata": {},
   "outputs": [
    {
     "name": "stdout",
     "output_type": "stream",
     "text": [
      "{'brand': 'Ford', 'model': 'Mustang', 'year': 1964}\n"
     ]
    }
   ],
   "source": [
    "car1 = {\n",
    "    \"brand\" : \"Ford\" ,\n",
    "    \"model\" : \"Mustang\" ,\n",
    "    \"year\" : 1964\n",
    "}\n",
    "print(car1)"
   ]
  },
  {
   "cell_type": "code",
   "execution_count": 24,
   "id": "32e367b4",
   "metadata": {},
   "outputs": [
    {
     "name": "stdout",
     "output_type": "stream",
     "text": [
      "Mustang\n"
     ]
    }
   ],
   "source": [
    "print(car1[\"model\"])"
   ]
  },
  {
   "cell_type": "code",
   "execution_count": 9,
   "id": "5ca1a639",
   "metadata": {},
   "outputs": [
    {
     "name": "stdout",
     "output_type": "stream",
     "text": [
      "{'brand': 'Ford', 'model': 'Mustang', 'year': 1964, 'color': 'Blue'}\n"
     ]
    }
   ],
   "source": [
    "car1[\"color\"] = \"Blue\"\n",
    "print(car1)"
   ]
  },
  {
   "cell_type": "code",
   "execution_count": 29,
   "id": "fe43dcfa",
   "metadata": {},
   "outputs": [
    {
     "name": "stdout",
     "output_type": "stream",
     "text": [
      "brand\n",
      "model\n",
      "year\n",
      "color\n"
     ]
    }
   ],
   "source": [
    "for x in car1:\n",
    "    print(x)"
   ]
  },
  {
   "cell_type": "code",
   "execution_count": 15,
   "id": "0b61fbd9",
   "metadata": {},
   "outputs": [
    {
     "name": "stdout",
     "output_type": "stream",
     "text": [
      "brand Ford\n",
      "model Mustang\n",
      "year 1964\n",
      "color Blue\n"
     ]
    }
   ],
   "source": [
    "for x, y  in car1.items():\n",
    "    print(x, y)"
   ]
  },
  {
   "cell_type": "markdown",
   "id": "d542a63a",
   "metadata": {},
   "source": [
    "# Loops"
   ]
  },
  {
   "cell_type": "code",
   "execution_count": 39,
   "id": "4dc275e8",
   "metadata": {},
   "outputs": [
    {
     "name": "stdout",
     "output_type": "stream",
     "text": [
      "13\n",
      "14\n",
      "15\n",
      "16\n",
      "17\n",
      "18\n",
      "19\n"
     ]
    }
   ],
   "source": [
    "for x in range(13, 20):\n",
    "    print(x)"
   ]
  },
  {
   "cell_type": "markdown",
   "id": "3b31a2e3",
   "metadata": {},
   "source": [
    "# Conditionals"
   ]
  },
  {
   "cell_type": "code",
   "execution_count": 55,
   "id": "00097b4f",
   "metadata": {},
   "outputs": [
    {
     "name": "stdout",
     "output_type": "stream",
     "text": [
      "A\n"
     ]
    }
   ],
   "source": [
    "grade = 91\n",
    "print(\"A\") if grade >=90 else print(\"B\") if grade >= 80 else print(\"Neither\")"
   ]
  },
  {
   "cell_type": "markdown",
   "id": "3a5d2fcc",
   "metadata": {},
   "source": [
    "# Functions"
   ]
  },
  {
   "cell_type": "code",
   "execution_count": 56,
   "id": "7e96bd1e",
   "metadata": {},
   "outputs": [
    {
     "name": "stdout",
     "output_type": "stream",
     "text": [
      "27\n",
      "13\n",
      "11\n"
     ]
    }
   ],
   "source": [
    "def changer(x):\n",
    "    return x // 2 + 7\n",
    "print(changer(41))\n",
    "print(changer(12))\n",
    "print(changer(9))"
   ]
  },
  {
   "cell_type": "code",
   "execution_count": null,
   "id": "4fc2ffba",
   "metadata": {},
   "outputs": [],
   "source": []
  }
 ],
 "metadata": {
  "kernelspec": {
   "display_name": "Python 3 (ipykernel)",
   "language": "python",
   "name": "python3"
  },
  "language_info": {
   "codemirror_mode": {
    "name": "ipython",
    "version": 3
   },
   "file_extension": ".py",
   "mimetype": "text/x-python",
   "name": "python",
   "nbconvert_exporter": "python",
   "pygments_lexer": "ipython3",
   "version": "3.9.12"
  }
 },
 "nbformat": 4,
 "nbformat_minor": 5
}

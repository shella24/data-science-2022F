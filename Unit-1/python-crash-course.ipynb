{
 "cells": [
  {
   "cell_type": "markdown",
   "id": "a27edf75",
   "metadata": {},
   "source": [
    "# Python Crash Coursen- By Ashley\n",
    "\n",
    "Here is some text"
   ]
  },
  {
   "cell_type": "markdown",
   "id": "9139e8ce",
   "metadata": {},
   "source": [
    "# Hello World"
   ]
  },
  {
   "cell_type": "markdown",
   "id": "5f9d19d1",
   "metadata": {},
   "source": [
    "### *today was good*"
   ]
  },
  {
   "cell_type": "markdown",
   "id": "669d07ef",
   "metadata": {},
   "source": [
    "### __first I had physics and now I have data science__"
   ]
  },
  {
   "cell_type": "markdown",
   "id": "c472b187",
   "metadata": {},
   "source": [
    "# I am hungry\n"
   ]
  },
  {
   "cell_type": "markdown",
   "id": "f4b67889",
   "metadata": {},
   "source": [
    "# food"
   ]
  },
  {
   "cell_type": "markdown",
   "id": "05e9358d",
   "metadata": {},
   "source": [
    "Lunch options\n",
    "Might be\n",
    "many many things"
   ]
  },
  {
   "cell_type": "markdown",
   "id": "d578fc55",
   "metadata": {},
   "source": [
    "1. food please\n",
    "* much food"
   ]
  },
  {
   "cell_type": "markdown",
   "id": "dfe46abb",
   "metadata": {},
   "source": [
    "# *italic*"
   ]
  },
  {
   "cell_type": "markdown",
   "id": "ae285788",
   "metadata": {},
   "source": []
  }
 ],
 "metadata": {
  "kernelspec": {
   "display_name": "Python 3 (ipykernel)",
   "language": "python",
   "name": "python3"
  },
  "language_info": {
   "codemirror_mode": {
    "name": "ipython",
    "version": 3
   },
   "file_extension": ".py",
   "mimetype": "text/x-python",
   "name": "python",
   "nbconvert_exporter": "python",
   "pygments_lexer": "ipython3",
   "version": "3.9.12"
  }
 },
 "nbformat": 4,
 "nbformat_minor": 5
}

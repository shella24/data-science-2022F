{
 "cells": [
  {
   "cell_type": "markdown",
   "id": "e9350068",
   "metadata": {},
   "source": [
    "# Python Project"
   ]
  },
  {
   "cell_type": "code",
   "execution_count": 5,
   "id": "913c2d6e",
   "metadata": {},
   "outputs": [],
   "source": [
    "import pandas as pd"
   ]
  },
  {
   "cell_type": "code",
   "execution_count": 6,
   "id": "1724817b",
   "metadata": {},
   "outputs": [],
   "source": [
    "from pandas_profiling import ProfileReport"
   ]
  },
  {
   "cell_type": "code",
   "execution_count": null,
   "id": "f54f6115",
   "metadata": {},
   "outputs": [],
   "source": [
    "college = pd.read_csv('https://raw.githubusercontent.com/fivethirtyeight/data/master/college-majors/recent-grads.csv')\n",
    "college"
   ]
  },
  {
   "cell_type": "code",
   "execution_count": null,
   "id": "2946d8d4",
   "metadata": {},
   "outputs": [],
   "source": [
    "ProfileReport(college)"
   ]
  },
  {
   "cell_type": "markdown",
   "id": "750ed881",
   "metadata": {},
   "source": [
    "Before Starting remove all the N/A's from your dataset"
   ]
  },
  {
   "cell_type": "code",
   "execution_count": null,
   "id": "a69ffa19",
   "metadata": {},
   "outputs": [],
   "source": [
    "college.dropna()"
   ]
  },
  {
   "cell_type": "markdown",
   "id": "2491232a",
   "metadata": {},
   "source": [
    "Also describe the dataframe to see what your working with"
   ]
  },
  {
   "cell_type": "code",
   "execution_count": null,
   "id": "cd6a02f8",
   "metadata": {},
   "outputs": [],
   "source": [
    "college.describe()"
   ]
  },
  {
   "cell_type": "markdown",
   "id": "a433e692",
   "metadata": {},
   "source": [
    "Question #1:\n",
    "How many MAJORS are in each Major_category?"
   ]
  },
  {
   "cell_type": "code",
   "execution_count": null,
   "id": "770977b0",
   "metadata": {},
   "outputs": [],
   "source": [
    "count = college.groupby('Major_category').Major_category.count()\n",
    "count.sort_values()"
   ]
  },
  {
   "cell_type": "markdown",
   "id": "499a2f9b",
   "metadata": {},
   "source": [
    "In the problem above a create a variable called count and used groupby to group all of the Major_categorys together and then altered it by counting and sorting the values. This outputted a series.  "
   ]
  },
  {
   "cell_type": "markdown",
   "id": "e82a002c",
   "metadata": {},
   "source": [
    "Question #2: Find all the MAJORS where WOMEN dominate MEN."
   ]
  },
  {
   "cell_type": "code",
   "execution_count": null,
   "id": "228460ae",
   "metadata": {},
   "outputs": [],
   "source": [
    "women = college.loc[college.ShareWomen >= 0.5]\n",
    "print(women)"
   ]
  },
  {
   "cell_type": "markdown",
   "id": "9d3ff4e7",
   "metadata": {},
   "source": [
    "In the problem above I made a variable called women and used .loc to locate all the Majors where the ShareWomen was greater than or equal to 0.5."
   ]
  },
  {
   "cell_type": "markdown",
   "id": "08d8fcb7",
   "metadata": {},
   "source": [
    "Question #3: Find all the MAJORS in the BUSINESS Major_category where the WOMEN outnumber the MEN."
   ]
  },
  {
   "cell_type": "code",
   "execution_count": null,
   "id": "e494d07e",
   "metadata": {},
   "outputs": [],
   "source": [
    "Business = college.loc[college.Major_category == 'Business']\n",
    "Business.loc[Business.ShareWomen >= 0.5]"
   ]
  },
  {
   "cell_type": "markdown",
   "id": "a198d0e9",
   "metadata": {},
   "source": [
    "In the problem above I created a variable called business and used .loc again to find all the Majors that were in the Business Major_category. Then I used that variable and plugged it into locating all the Business Majors that have a ShareWomen that was greater than or equal to 0.5."
   ]
  },
  {
   "cell_type": "markdown",
   "id": "64c85b4d",
   "metadata": {},
   "source": [
    "Question #4: How many people got a Full_time_year_round College_job that's not low_wage_jobs?"
   ]
  },
  {
   "cell_type": "code",
   "execution_count": null,
   "id": "cdd7d724",
   "metadata": {},
   "outputs": [],
   "source": [
    "total = college.iloc[:,3].sum()\n",
    "math = total - (college.iloc[:,-3].sum() + college.iloc[:,-9].sum())\n",
    "print(math)"
   ]
  },
  {
   "cell_type": "markdown",
   "id": "5039b09d",
   "metadata": {},
   "source": [
    "In the problem above I calculated all the people by finding the total and then subracting the Full_time_year_round + College_job from it. "
   ]
  },
  {
   "cell_type": "markdown",
   "id": "009729ce",
   "metadata": {},
   "source": [
    "Question #5: Create a NEW COLUMN called ShareMen next to the ShareWomen and plug in the share of men for each major."
   ]
  },
  {
   "cell_type": "code",
   "execution_count": null,
   "id": "26cae331",
   "metadata": {},
   "outputs": [],
   "source": [
    "college['ShareMen'] = college['Men'] / college['Total']\n",
    "college = college[['Rank','Major_code','Major','Total','Men','Women','Major_category','ShareWomen','ShareMen','Sample_size','Employed','Part_time','Full_time_year_round','Unemployed','Unemployment_rate','Median','P25th','P75th','College_jobs','Non_college_jobs','Low_wage_jobs']]\n",
    "print(college)"
   ]
  },
  {
   "cell_type": "markdown",
   "id": "ea3e64e4",
   "metadata": {},
   "source": [
    "In the problem above I created a new column called ShareMen that had the ShareMen for every major. And then I reorganized the datarframe so that the ShareWomen and ShareMen were next to each other."
   ]
  },
  {
   "cell_type": "markdown",
   "id": "ee376452",
   "metadata": {},
   "source": [
    "Question #6: Sort all the College_jobs within the Engineering Major_category from MOST to LEAST."
   ]
  },
  {
   "cell_type": "code",
   "execution_count": null,
   "id": "2e535597",
   "metadata": {},
   "outputs": [],
   "source": [
    "jobs = college.sort_values(by=['College_jobs'], ascending=False)\n",
    "engineering = jobs.loc[college.Major_category == 'Engineering']\n",
    "print(engineering)"
   ]
  },
  {
   "cell_type": "markdown",
   "id": "a9d7f10c",
   "metadata": {},
   "source": [
    "In the problem above I created a variable called jobs and assigned it to sort the College_job columns by ascending=False. Then I created another variable called engineering and plugged the jobs variable in to find all the Majors that were in Engineering. "
   ]
  },
  {
   "cell_type": "code",
   "execution_count": null,
   "id": "9f15adbc",
   "metadata": {},
   "outputs": [],
   "source": []
  }
 ],
 "metadata": {
  "kernelspec": {
   "display_name": "Python 3 (ipykernel)",
   "language": "python",
   "name": "python3"
  },
  "language_info": {
   "codemirror_mode": {
    "name": "ipython",
    "version": 3
   },
   "file_extension": ".py",
   "mimetype": "text/x-python",
   "name": "python",
   "nbconvert_exporter": "python",
   "pygments_lexer": "ipython3",
   "version": "3.9.12"
  }
 },
 "nbformat": 4,
 "nbformat_minor": 5
}

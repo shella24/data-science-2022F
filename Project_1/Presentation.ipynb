{
 "cells": [
  {
   "cell_type": "markdown",
   "id": "47311011",
   "metadata": {},
   "source": [
    "# Python Project"
   ]
  },
  {
   "cell_type": "markdown",
   "id": "4595b97f",
   "metadata": {},
   "source": [
    "Question #1"
   ]
  },
  {
   "cell_type": "markdown",
   "id": "2ebf4e33",
   "metadata": {},
   "source": [
    "how many majors in each category"
   ]
  },
  {
   "cell_type": "markdown",
   "id": "bb96c6de",
   "metadata": {},
   "source": [
    "Question #2"
   ]
  },
  {
   "cell_type": "markdown",
   "id": "061ea397",
   "metadata": {},
   "source": [
    "how many people got a full time college job thats no low wage and which degree has the best result"
   ]
  },
  {
   "cell_type": "markdown",
   "id": "a17bbb30",
   "metadata": {},
   "source": [
    "Question #3"
   ]
  },
  {
   "cell_type": "markdown",
   "id": "40f20ada",
   "metadata": {},
   "source": []
  },
  {
   "cell_type": "markdown",
   "id": "d254688b",
   "metadata": {},
   "source": [
    "Question #4"
   ]
  },
  {
   "cell_type": "markdown",
   "id": "3c27676b",
   "metadata": {},
   "source": []
  },
  {
   "cell_type": "markdown",
   "id": "04d8454b",
   "metadata": {},
   "source": [
    "Question #5"
   ]
  },
  {
   "cell_type": "markdown",
   "id": "0c222635",
   "metadata": {},
   "source": []
  }
 ],
 "metadata": {
  "kernelspec": {
   "display_name": "Python 3 (ipykernel)",
   "language": "python",
   "name": "python3"
  },
  "language_info": {
   "codemirror_mode": {
    "name": "ipython",
    "version": 3
   },
   "file_extension": ".py",
   "mimetype": "text/x-python",
   "name": "python",
   "nbconvert_exporter": "python",
   "pygments_lexer": "ipython3",
   "version": "3.9.12"
  }
 },
 "nbformat": 4,
 "nbformat_minor": 5
}

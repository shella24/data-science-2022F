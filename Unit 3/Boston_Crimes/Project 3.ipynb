{
 "cells": [
  {
   "cell_type": "code",
   "execution_count": 1,
   "id": "46e15d21",
   "metadata": {},
   "outputs": [],
   "source": [
    "import pandas as pd\n",
    "#import pandas_profiling\n",
    "#profile = crimes.profile_report(title='Boston Crimes Profiling')\n",
    "#profile.to_file(output_file='boston-crimes-profiling.html')\n",
    "crime_data = pd.read_csv('crime')"
   ]
  },
  {
   "cell_type": "code",
   "execution_count": null,
   "id": "8ac40eaf",
   "metadata": {},
   "outputs": [],
   "source": []
  }
 ],
 "metadata": {
  "kernelspec": {
   "display_name": "Python 3 (ipykernel)",
   "language": "python",
   "name": "python3"
  },
  "language_info": {
   "codemirror_mode": {
    "name": "ipython",
    "version": 3
   },
   "file_extension": ".py",
   "mimetype": "text/x-python",
   "name": "python",
   "nbconvert_exporter": "python",
   "pygments_lexer": "ipython3",
   "version": "3.9.12"
  }
 },
 "nbformat": 4,
 "nbformat_minor": 5
}

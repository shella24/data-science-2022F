{
 "cells": [
  {
   "cell_type": "code",
   "execution_count": 24,
   "id": "f2e1467c",
   "metadata": {},
   "outputs": [],
   "source": [
    "import matplotlib.pyplot as plt\n",
    "import pandas as pd\n",
    "\n",
    "people = pd.read_csv('people.csv')"
   ]
  },
  {
   "cell_type": "code",
   "execution_count": 25,
   "id": "317b0bb6",
   "metadata": {},
   "outputs": [
    {
     "data": {
      "text/html": [
       "<div>\n",
       "<style scoped>\n",
       "    .dataframe tbody tr th:only-of-type {\n",
       "        vertical-align: middle;\n",
       "    }\n",
       "\n",
       "    .dataframe tbody tr th {\n",
       "        vertical-align: top;\n",
       "    }\n",
       "\n",
       "    .dataframe thead th {\n",
       "        text-align: right;\n",
       "    }\n",
       "</style>\n",
       "<table border=\"1\" class=\"dataframe\">\n",
       "  <thead>\n",
       "    <tr style=\"text-align: right;\">\n",
       "      <th></th>\n",
       "      <th>name</th>\n",
       "      <th>gpa</th>\n",
       "      <th>friends</th>\n",
       "      <th>sports</th>\n",
       "      <th>height</th>\n",
       "      <th>shoes</th>\n",
       "    </tr>\n",
       "  </thead>\n",
       "  <tbody>\n",
       "    <tr>\n",
       "      <th>0</th>\n",
       "      <td>dakota</td>\n",
       "      <td>3.15</td>\n",
       "      <td>307</td>\n",
       "      <td>basketball</td>\n",
       "      <td>72</td>\n",
       "      <td>sneaker</td>\n",
       "    </tr>\n",
       "    <tr>\n",
       "      <th>1</th>\n",
       "      <td>hayden</td>\n",
       "      <td>3.50</td>\n",
       "      <td>335</td>\n",
       "      <td>tennis</td>\n",
       "      <td>68</td>\n",
       "      <td>flip-flops</td>\n",
       "    </tr>\n",
       "    <tr>\n",
       "      <th>2</th>\n",
       "      <td>charlie</td>\n",
       "      <td>1.10</td>\n",
       "      <td>34</td>\n",
       "      <td>baseball</td>\n",
       "      <td>61</td>\n",
       "      <td>flip-flops</td>\n",
       "    </tr>\n",
       "    <tr>\n",
       "      <th>3</th>\n",
       "      <td>kamryn</td>\n",
       "      <td>2.18</td>\n",
       "      <td>200</td>\n",
       "      <td>soccer</td>\n",
       "      <td>66</td>\n",
       "      <td>shoes</td>\n",
       "    </tr>\n",
       "    <tr>\n",
       "      <th>4</th>\n",
       "      <td>emerson</td>\n",
       "      <td>3.06</td>\n",
       "      <td>213</td>\n",
       "      <td>soccer</td>\n",
       "      <td>65</td>\n",
       "      <td>shoes</td>\n",
       "    </tr>\n",
       "    <tr>\n",
       "      <th>5</th>\n",
       "      <td>jessie</td>\n",
       "      <td>2.41</td>\n",
       "      <td>202</td>\n",
       "      <td>basketball</td>\n",
       "      <td>61</td>\n",
       "      <td>flip-flops</td>\n",
       "    </tr>\n",
       "    <tr>\n",
       "      <th>6</th>\n",
       "      <td>sawyer</td>\n",
       "      <td>2.96</td>\n",
       "      <td>314</td>\n",
       "      <td>tennis</td>\n",
       "      <td>67</td>\n",
       "      <td>flip-flops</td>\n",
       "    </tr>\n",
       "    <tr>\n",
       "      <th>7</th>\n",
       "      <td>london</td>\n",
       "      <td>3.98</td>\n",
       "      <td>436</td>\n",
       "      <td>soccer</td>\n",
       "      <td>64</td>\n",
       "      <td>shoes</td>\n",
       "    </tr>\n",
       "  </tbody>\n",
       "</table>\n",
       "</div>"
      ],
      "text/plain": [
       "      name   gpa  friends      sports  height       shoes\n",
       "0   dakota  3.15      307  basketball      72     sneaker\n",
       "1   hayden  3.50      335      tennis      68  flip-flops\n",
       "2  charlie  1.10       34    baseball      61  flip-flops\n",
       "3   kamryn  2.18      200      soccer      66       shoes\n",
       "4  emerson  3.06      213      soccer      65       shoes\n",
       "5   jessie  2.41      202  basketball      61  flip-flops\n",
       "6   sawyer  2.96      314      tennis      67  flip-flops\n",
       "7   london  3.98      436      soccer      64       shoes"
      ]
     },
     "execution_count": 25,
     "metadata": {},
     "output_type": "execute_result"
    }
   ],
   "source": [
    "people"
   ]
  },
  {
   "cell_type": "code",
   "execution_count": 26,
   "id": "6590ce27",
   "metadata": {},
   "outputs": [
    {
     "data": {
      "text/plain": [
       "<matplotlib.collections.PathCollection at 0x7fb1cf970b80>"
      ]
     },
     "execution_count": 26,
     "metadata": {},
     "output_type": "execute_result"
    },
    {
     "data": {
      "image/png": "[encoded data removed]",
      "text/plain": [
       "<Figure size 432x288 with 1 Axes>"
      ]
     },
     "metadata": {
      "needs_background": "light"
     },
     "output_type": "display_data"
    }
   ],
   "source": [
    "plt.scatter(people.friends, people.height)"
   ]
  },
  {
   "cell_type": "code",
   "execution_count": 27,
   "id": "344f9ba3",
   "metadata": {},
   "outputs": [
    {
     "data": {
      "text/plain": [
       "Text(0, 0.5, 'height')"
      ]
     },
     "execution_count": 27,
     "metadata": {},
     "output_type": "execute_result"
    },
    {
     "data": {
      "image/png": "[encoded data removed]",
      "text/plain": [
       "<Figure size 432x288 with 1 Axes>"
      ]
     },
     "metadata": {
      "needs_background": "light"
     },
     "output_type": "display_data"
    }
   ],
   "source": [
    "plt.scatter(people.friends, people.height)\n",
    "\n",
    "plt.grid()\n",
    "plt.xlabel('friends')\n",
    "plt.ylabel('height')"
   ]
  },
  {
   "cell_type": "code",
   "execution_count": 28,
   "id": "d7efd7c0",
   "metadata": {},
   "outputs": [
    {
     "data": {
      "text/plain": [
       "[<matplotlib.lines.Line2D at 0x7fb1c9503220>]"
      ]
     },
     "execution_count": 28,
     "metadata": {},
     "output_type": "execute_result"
    },
    {
     "data": {
      "image/png": "[encoded data removed]",
      "text/plain": [
       "<Figure size 432x288 with 1 Axes>"
      ]
     },
     "metadata": {
      "needs_background": "light"
     },
     "output_type": "display_data"
    }
   ],
   "source": [
    "import numpy as np\n",
    "\n",
    "xpoints = np.array([400, 50])\n",
    "ypoints = np.array([70,61])\n",
    "\n",
    "plt.scatter(people.friends, people.height)\n",
    "plt.grid()\n",
    "plt.xlabel('friends')\n",
    "plt.ylabel('height')\n",
    "\n",
    "plt.plot(xpoints, ypoints)"
   ]
  },
  {
   "cell_type": "code",
   "execution_count": 29,
   "id": "6127ebb6",
   "metadata": {},
   "outputs": [
    {
     "data": {
      "text/html": [
       "<div>\n",
       "<style scoped>\n",
       "    .dataframe tbody tr th:only-of-type {\n",
       "        vertical-align: middle;\n",
       "    }\n",
       "\n",
       "    .dataframe tbody tr th {\n",
       "        vertical-align: top;\n",
       "    }\n",
       "\n",
       "    .dataframe thead th {\n",
       "        text-align: right;\n",
       "    }\n",
       "</style>\n",
       "<table border=\"1\" class=\"dataframe\">\n",
       "  <thead>\n",
       "    <tr style=\"text-align: right;\">\n",
       "      <th></th>\n",
       "      <th>gpa</th>\n",
       "      <th>friends</th>\n",
       "      <th>height</th>\n",
       "    </tr>\n",
       "  </thead>\n",
       "  <tbody>\n",
       "    <tr>\n",
       "      <th>gpa</th>\n",
       "      <td>1.000000</td>\n",
       "      <td>0.955895</td>\n",
       "      <td>0.502907</td>\n",
       "    </tr>\n",
       "    <tr>\n",
       "      <th>friends</th>\n",
       "      <td>0.955895</td>\n",
       "      <td>1.000000</td>\n",
       "      <td>0.511286</td>\n",
       "    </tr>\n",
       "    <tr>\n",
       "      <th>height</th>\n",
       "      <td>0.502907</td>\n",
       "      <td>0.511286</td>\n",
       "      <td>1.000000</td>\n",
       "    </tr>\n",
       "  </tbody>\n",
       "</table>\n",
       "</div>"
      ],
      "text/plain": [
       "              gpa   friends    height\n",
       "gpa      1.000000  0.955895  0.502907\n",
       "friends  0.955895  1.000000  0.511286\n",
       "height   0.502907  0.511286  1.000000"
      ]
     },
     "execution_count": 29,
     "metadata": {},
     "output_type": "execute_result"
    }
   ],
   "source": [
    "people.corr()"
   ]
  },
  {
   "cell_type": "code",
   "execution_count": 35,
   "id": "e2274075",
   "metadata": {},
   "outputs": [
    {
     "data": {
      "image/png": "[encoded data removed]",
      "text/plain": [
       "<Figure size 432x288 with 1 Axes>"
      ]
     },
     "metadata": {
      "needs_background": "light"
     },
     "output_type": "display_data"
    }
   ],
   "source": [
    "import seaborn as sns\n",
    "sns.scatterplot(data=people, x= 'friends', y= 'height', hue='shoes').grid()"
   ]
  },
  {
   "cell_type": "code",
   "execution_count": 33,
   "id": "250511f3",
   "metadata": {},
   "outputs": [
    {
     "data": {
      "text/plain": [
       "<AxesSubplot:xlabel='friends', ylabel='height'>"
      ]
     },
     "execution_count": 33,
     "metadata": {},
     "output_type": "execute_result"
    },
    {
     "data": {
      "image/png": "[encoded data removed]",
      "text/plain": [
       "<Figure size 432x288 with 1 Axes>"
      ]
     },
     "metadata": {
      "needs_background": "light"
     },
     "output_type": "display_data"
    }
   ],
   "source": [
    "sns.regplot(data=people, x= 'friends', y= 'height')"
   ]
  },
  {
   "cell_type": "code",
   "execution_count": null,
   "id": "2142ff84",
   "metadata": {},
   "outputs": [],
   "source": []
  }
 ],
 "metadata": {
  "kernelspec": {
   "display_name": "Python 3 (ipykernel)",
   "language": "python",
   "name": "python3"
  },
  "language_info": {
   "codemirror_mode": {
    "name": "ipython",
    "version": 3
   },
   "file_extension": ".py",
   "mimetype": "text/x-python",
   "name": "python",
   "nbconvert_exporter": "python",
   "pygments_lexer": "ipython3",
   "version": "3.9.12"
  }
 },
 "nbformat": 4,
 "nbformat_minor": 5
}
